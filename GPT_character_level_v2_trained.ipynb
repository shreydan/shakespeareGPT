{
 "cells": [
  {
   "cell_type": "markdown",
   "id": "5394c6b4",
   "metadata": {
    "papermill": {
     "duration": 0.009997,
     "end_time": "2023-02-13T05:57:22.454472",
     "exception": false,
     "start_time": "2023-02-13T05:57:22.444475",
     "status": "completed"
    },
    "tags": []
   },
   "source": [
    "# **Shakespeare GPT**\n",
    "---\n",
    "\n",
    "from Andrej Karpathy's Tutorial: [ Let's build GPT: from scratch, in code, spelled out. ](https://www.youtube.com/watch?v=kCc8FmEb1nY)"
   ]
  },
  {
   "cell_type": "code",
   "execution_count": 1,
   "id": "7a633a83",
   "metadata": {
    "_cell_guid": "b1076dfc-b9ad-4769-8c92-a6c4dae69d19",
    "_uuid": "8f2839f25d086af736a60e9eeb907d3b93b6e0e5",
    "execution": {
     "iopub.execute_input": "2023-02-13T05:57:22.470597Z",
     "iopub.status.busy": "2023-02-13T05:57:22.469705Z",
     "iopub.status.idle": "2023-02-13T05:57:24.106913Z",
     "shell.execute_reply": "2023-02-13T05:57:24.105993Z"
    },
    "papermill": {
     "duration": 1.647468,
     "end_time": "2023-02-13T05:57:24.109331",
     "exception": false,
     "start_time": "2023-02-13T05:57:22.461863",
     "status": "completed"
    },
    "tags": []
   },
   "outputs": [
    {
     "data": {
      "text/plain": [
       "<torch._C.Generator at 0x7fe5dade5e10>"
      ]
     },
     "execution_count": 1,
     "metadata": {},
     "output_type": "execute_result"
    }
   ],
   "source": [
    "import torch\n",
    "import torch.nn as nn\n",
    "import torch.nn.functional as F\n",
    "\n",
    "from dataclasses import dataclass\n",
    "\n",
    "from tqdm.auto import tqdm\n",
    "\n",
    "from pathlib import Path\n",
    "\n",
    "import matplotlib.pyplot as plt\n",
    "\n",
    "torch.manual_seed(1357)"
   ]
  },
  {
   "cell_type": "markdown",
   "id": "8f9da040",
   "metadata": {
    "papermill": {
     "duration": 0.006454,
     "end_time": "2023-02-13T05:57:24.122866",
     "exception": false,
     "start_time": "2023-02-13T05:57:24.116412",
     "status": "completed"
    },
    "tags": []
   },
   "source": [
    "# Data"
   ]
  },
  {
   "cell_type": "code",
   "execution_count": 2,
   "id": "77825fd1",
   "metadata": {
    "execution": {
     "iopub.execute_input": "2023-02-13T05:57:24.137071Z",
     "iopub.status.busy": "2023-02-13T05:57:24.136661Z",
     "iopub.status.idle": "2023-02-13T05:57:24.170536Z",
     "shell.execute_reply": "2023-02-13T05:57:24.169557Z"
    },
    "papermill": {
     "duration": 0.043294,
     "end_time": "2023-02-13T05:57:24.172500",
     "exception": false,
     "start_time": "2023-02-13T05:57:24.129206",
     "status": "completed"
    },
    "tags": []
   },
   "outputs": [],
   "source": [
    "with open('/kaggle/input/shakespeare-full-text/shakespeare.txt','r',encoding='utf-8') as f:\n",
    "    data = f.read()"
   ]
  },
  {
   "cell_type": "markdown",
   "id": "3e1dbbe6",
   "metadata": {
    "papermill": {
     "duration": 0.006385,
     "end_time": "2023-02-13T05:57:24.185557",
     "exception": false,
     "start_time": "2023-02-13T05:57:24.179172",
     "status": "completed"
    },
    "tags": []
   },
   "source": [
    "# Character Level Tokenizer"
   ]
  },
  {
   "cell_type": "code",
   "execution_count": 3,
   "id": "503df75d",
   "metadata": {
    "execution": {
     "iopub.execute_input": "2023-02-13T05:57:24.202748Z",
     "iopub.status.busy": "2023-02-13T05:57:24.201388Z",
     "iopub.status.idle": "2023-02-13T05:57:24.221820Z",
     "shell.execute_reply": "2023-02-13T05:57:24.220912Z"
    },
    "papermill": {
     "duration": 0.029684,
     "end_time": "2023-02-13T05:57:24.223762",
     "exception": false,
     "start_time": "2023-02-13T05:57:24.194078",
     "status": "completed"
    },
    "tags": []
   },
   "outputs": [],
   "source": [
    "class CharacterLevelTokenizer:\n",
    "    def __init__(self,data):\n",
    "        self.data = data\n",
    "        self.vocab = sorted(list(set(self.data)))\n",
    "        self.VOCAB_SIZE = len(self.vocab)\n",
    "        \n",
    "        self.i_s = {i:s for i,s in enumerate(self.vocab)}\n",
    "        self.s_i = {s:i for i,s in self.i_s.items()}\n",
    "        \n",
    "    def encode(self,s):\n",
    "        return torch.tensor([self.s_i[c] for c in s],dtype=torch.long)\n",
    "\n",
    "    def decode(self,s):\n",
    "        return ''.join([self.i_s[i.item()] for i in s])\n",
    "\n",
    "tokenizer = CharacterLevelTokenizer(data)"
   ]
  },
  {
   "cell_type": "markdown",
   "id": "39b7f3ec",
   "metadata": {
    "papermill": {
     "duration": 0.006184,
     "end_time": "2023-02-13T05:57:24.236442",
     "exception": false,
     "start_time": "2023-02-13T05:57:24.230258",
     "status": "completed"
    },
    "tags": []
   },
   "source": [
    "# Config"
   ]
  },
  {
   "cell_type": "code",
   "execution_count": 4,
   "id": "a7435b6a",
   "metadata": {
    "execution": {
     "iopub.execute_input": "2023-02-13T05:57:24.250437Z",
     "iopub.status.busy": "2023-02-13T05:57:24.250140Z",
     "iopub.status.idle": "2023-02-13T05:57:24.338872Z",
     "shell.execute_reply": "2023-02-13T05:57:24.337879Z"
    },
    "papermill": {
     "duration": 0.09807,
     "end_time": "2023-02-13T05:57:24.341026",
     "exception": false,
     "start_time": "2023-02-13T05:57:24.242956",
     "status": "completed"
    },
    "tags": []
   },
   "outputs": [
    {
     "data": {
      "text/plain": [
       "'cuda'"
      ]
     },
     "execution_count": 4,
     "metadata": {},
     "output_type": "execute_result"
    }
   ],
   "source": [
    "@dataclass\n",
    "class Config:\n",
    "    block_size = 256 # context-length\n",
    "    batch_size = 64 # mini-batch size\n",
    "    vocab_size = tokenizer.VOCAB_SIZE\n",
    "    n_embed = 256\n",
    "    n_heads = 8\n",
    "    head_size = n_embed // n_heads # computes to 384/6=64 or 128/4=32 or 256/8\n",
    "    \n",
    "    n_layers = 3\n",
    "    \n",
    "    train_iters = 10_000\n",
    "    val_iters = 1000\n",
    "    lr = 3e-4\n",
    "    \n",
    "    attn_dropout = 0.1\n",
    "    block_dropout = 0.1\n",
    "    \n",
    "    device = 'cuda' if torch.cuda.is_available() else 'cpu'\n",
    "    \n",
    "Config.device"
   ]
  },
  {
   "cell_type": "markdown",
   "id": "ce53d478",
   "metadata": {
    "papermill": {
     "duration": 0.006521,
     "end_time": "2023-02-13T05:57:24.354110",
     "exception": false,
     "start_time": "2023-02-13T05:57:24.347589",
     "status": "completed"
    },
    "tags": []
   },
   "source": [
    "# Dataset"
   ]
  },
  {
   "cell_type": "code",
   "execution_count": 5,
   "id": "14152b00",
   "metadata": {
    "execution": {
     "iopub.execute_input": "2023-02-13T05:57:24.368431Z",
     "iopub.status.busy": "2023-02-13T05:57:24.368138Z",
     "iopub.status.idle": "2023-02-13T05:57:24.377010Z",
     "shell.execute_reply": "2023-02-13T05:57:24.376150Z"
    },
    "papermill": {
     "duration": 0.018334,
     "end_time": "2023-02-13T05:57:24.378974",
     "exception": false,
     "start_time": "2023-02-13T05:57:24.360640",
     "status": "completed"
    },
    "tags": []
   },
   "outputs": [],
   "source": [
    "class ShakespeareDataset:\n",
    "    def __init__(self,Config, is_test=False) -> None:\n",
    "        self.tokenizer = CharacterLevelTokenizer(data)\n",
    "        self.is_test = is_test\n",
    "        self.full_data = self.tokenizer.encode(self.tokenizer.data)\n",
    "        if self.is_test:\n",
    "            self.data = self.full_data[int(0.9*len(self.full_data)):]\n",
    "        else:\n",
    "            self.data = self.full_data[:int(0.9*len(self.full_data))]\n",
    "        self.block_size = Config.block_size\n",
    "        self.batch_size = Config.batch_size\n",
    "\n",
    "    def __len__(self) -> int:\n",
    "        return len(self.data)\n",
    "\n",
    "    def get_block_size(self) -> int:\n",
    "        return self.block_size\n",
    "\n",
    "    def get_vocab_size(self) -> int:\n",
    "        return self.tokenizer.VOCAB_SIZE\n",
    "\n",
    "    def get(self):\n",
    "        ix = torch.randint(len(self.data) - self.block_size, (self.batch_size,))\n",
    "        x = torch.stack([self.data[i:i+self.block_size] for i in ix])\n",
    "        y = torch.stack([self.data[i+1:i+self.block_size+1] for i in ix])\n",
    "        return x,y"
   ]
  },
  {
   "cell_type": "markdown",
   "id": "f5a91fc8",
   "metadata": {
    "papermill": {
     "duration": 0.006557,
     "end_time": "2023-02-13T05:57:24.392208",
     "exception": false,
     "start_time": "2023-02-13T05:57:24.385651",
     "status": "completed"
    },
    "tags": []
   },
   "source": [
    "---\n",
    "\n",
    "# **GPT Model**"
   ]
  },
  {
   "cell_type": "markdown",
   "id": "e10618fb",
   "metadata": {
    "papermill": {
     "duration": 0.006499,
     "end_time": "2023-02-13T05:57:24.404985",
     "exception": false,
     "start_time": "2023-02-13T05:57:24.398486",
     "status": "completed"
    },
    "tags": []
   },
   "source": [
    "## Single Attention Head"
   ]
  },
  {
   "cell_type": "code",
   "execution_count": 6,
   "id": "deab139a",
   "metadata": {
    "execution": {
     "iopub.execute_input": "2023-02-13T05:57:24.419604Z",
     "iopub.status.busy": "2023-02-13T05:57:24.418770Z",
     "iopub.status.idle": "2023-02-13T05:57:24.427821Z",
     "shell.execute_reply": "2023-02-13T05:57:24.426986Z"
    },
    "papermill": {
     "duration": 0.018172,
     "end_time": "2023-02-13T05:57:24.429703",
     "exception": false,
     "start_time": "2023-02-13T05:57:24.411531",
     "status": "completed"
    },
    "tags": []
   },
   "outputs": [],
   "source": [
    "class AttentionHead(nn.Module):\n",
    "    def __init__(self, Config):\n",
    "        super().__init__()\n",
    "\n",
    "        self.block_size = Config.block_size\n",
    "        self.n_embed = Config.n_embed\n",
    "        self.head_size = Config.head_size\n",
    "        \n",
    "        self.key = nn.Linear(self.n_embed, self.head_size, bias=False)\n",
    "        self.query = nn.Linear(self.n_embed, self.head_size, bias=False)\n",
    "        \n",
    "        self.value = nn.Linear(self.n_embed, self.head_size, bias=False)\n",
    "\n",
    "        self.register_buffer(\n",
    "            'tril',\n",
    "            torch.tril(torch.ones(self.block_size,self.block_size))\n",
    "        )\n",
    "        \n",
    "        self.dropout = nn.Dropout(Config.attn_dropout)\n",
    "\n",
    "    def forward(self, x):\n",
    "\n",
    "        B,T,C = x.shape\n",
    "\n",
    "        k = self.key(x)\n",
    "        q = self.query(x)\n",
    "\n",
    "        wei = q@k.transpose(-2,-1) * (C ** 0.5)\n",
    "        wei = wei.masked_fill(self.tril[:T,:T]==0,float('-inf'))\n",
    "        wei = F.softmax(wei, dim=-1)\n",
    "        wei = self.dropout(wei)\n",
    "        \n",
    "        v = self.value(x)\n",
    "        out = wei @ v\n",
    "        \n",
    "        return out"
   ]
  },
  {
   "cell_type": "markdown",
   "id": "8182d0cb",
   "metadata": {
    "papermill": {
     "duration": 0.006355,
     "end_time": "2023-02-13T05:57:24.442564",
     "exception": false,
     "start_time": "2023-02-13T05:57:24.436209",
     "status": "completed"
    },
    "tags": []
   },
   "source": [
    "## MultiHead Attention"
   ]
  },
  {
   "cell_type": "code",
   "execution_count": 7,
   "id": "5a2239b0",
   "metadata": {
    "execution": {
     "iopub.execute_input": "2023-02-13T05:57:24.457178Z",
     "iopub.status.busy": "2023-02-13T05:57:24.456376Z",
     "iopub.status.idle": "2023-02-13T05:57:24.463641Z",
     "shell.execute_reply": "2023-02-13T05:57:24.462807Z"
    },
    "papermill": {
     "duration": 0.016587,
     "end_time": "2023-02-13T05:57:24.465538",
     "exception": false,
     "start_time": "2023-02-13T05:57:24.448951",
     "status": "completed"
    },
    "tags": []
   },
   "outputs": [],
   "source": [
    "class MultiHeadAttention(nn.Module):\n",
    "    def __init__(self, Config):\n",
    "        super().__init__()\n",
    "        self.n_heads = Config.n_heads\n",
    "        self.head_size = Config.head_size\n",
    "        \n",
    "        self.heads = nn.ModuleList([AttentionHead(Config) for _ in range(self.n_heads)])\n",
    "        \n",
    "        self.projection = nn.Linear(Config.n_embed, Config.n_embed)\n",
    "        \n",
    "        self.dropout = nn.Dropout(Config.attn_dropout)\n",
    "    \n",
    "    def forward(self,x):\n",
    "        x = torch.cat([h(x) for h in self.heads],dim=-1)\n",
    "        x = self.projection(x)\n",
    "        x = self.dropout(x)\n",
    "        return x"
   ]
  },
  {
   "cell_type": "markdown",
   "id": "6630a959",
   "metadata": {
    "papermill": {
     "duration": 0.006123,
     "end_time": "2023-02-13T05:57:24.478279",
     "exception": false,
     "start_time": "2023-02-13T05:57:24.472156",
     "status": "completed"
    },
    "tags": []
   },
   "source": [
    "## Feed Forward Layer"
   ]
  },
  {
   "cell_type": "code",
   "execution_count": 8,
   "id": "a7a2e320",
   "metadata": {
    "execution": {
     "iopub.execute_input": "2023-02-13T05:57:24.493150Z",
     "iopub.status.busy": "2023-02-13T05:57:24.492398Z",
     "iopub.status.idle": "2023-02-13T05:57:24.497923Z",
     "shell.execute_reply": "2023-02-13T05:57:24.497038Z"
    },
    "papermill": {
     "duration": 0.015103,
     "end_time": "2023-02-13T05:57:24.499976",
     "exception": false,
     "start_time": "2023-02-13T05:57:24.484873",
     "status": "completed"
    },
    "tags": []
   },
   "outputs": [],
   "source": [
    "class FeedForward(nn.Module):\n",
    "    def __init__(self, Config):\n",
    "        super().__init__()\n",
    "        self.net = nn.Sequential(\n",
    "            nn.Linear(Config.n_embed,Config.n_embed * 4),\n",
    "            nn.ReLU(),\n",
    "            nn.Linear(Config.n_embed * 4, Config.n_embed), # projection\n",
    "            nn.Dropout(Config.block_dropout)\n",
    "        )\n",
    "    def forward(self,x):\n",
    "        return self.net(x)"
   ]
  },
  {
   "cell_type": "markdown",
   "id": "516b6608",
   "metadata": {
    "papermill": {
     "duration": 0.006406,
     "end_time": "2023-02-13T05:57:24.513055",
     "exception": false,
     "start_time": "2023-02-13T05:57:24.506649",
     "status": "completed"
    },
    "tags": []
   },
   "source": [
    "# Transformer Block"
   ]
  },
  {
   "cell_type": "code",
   "execution_count": 9,
   "id": "6ff9b66f",
   "metadata": {
    "execution": {
     "iopub.execute_input": "2023-02-13T05:57:24.527428Z",
     "iopub.status.busy": "2023-02-13T05:57:24.526608Z",
     "iopub.status.idle": "2023-02-13T05:57:24.532975Z",
     "shell.execute_reply": "2023-02-13T05:57:24.532191Z"
    },
    "papermill": {
     "duration": 0.015567,
     "end_time": "2023-02-13T05:57:24.534888",
     "exception": false,
     "start_time": "2023-02-13T05:57:24.519321",
     "status": "completed"
    },
    "tags": []
   },
   "outputs": [],
   "source": [
    "class TransformerBlock(nn.Module):\n",
    "    def __init__(self, Config):\n",
    "        super().__init__()\n",
    "        self.attn = MultiHeadAttention(Config)\n",
    "        self.ff = FeedForward(Config)\n",
    "        self.ln1 = nn.LayerNorm(Config.n_embed)\n",
    "        self.ln2 = nn.LayerNorm(Config.n_embed)\n",
    "\n",
    "    def forward(self,x):\n",
    "        x = x + self.attn(self.ln1(x))\n",
    "        x = x + self.ff(self.ln2(x))\n",
    "        \n",
    "        return x"
   ]
  },
  {
   "cell_type": "markdown",
   "id": "7f18ce46",
   "metadata": {
    "papermill": {
     "duration": 0.00617,
     "end_time": "2023-02-13T05:57:24.547738",
     "exception": false,
     "start_time": "2023-02-13T05:57:24.541568",
     "status": "completed"
    },
    "tags": []
   },
   "source": [
    "## GPT Model"
   ]
  },
  {
   "cell_type": "code",
   "execution_count": 10,
   "id": "9df8e5dd",
   "metadata": {
    "execution": {
     "iopub.execute_input": "2023-02-13T05:57:24.562372Z",
     "iopub.status.busy": "2023-02-13T05:57:24.561650Z",
     "iopub.status.idle": "2023-02-13T05:57:24.571175Z",
     "shell.execute_reply": "2023-02-13T05:57:24.570214Z"
    },
    "papermill": {
     "duration": 0.018992,
     "end_time": "2023-02-13T05:57:24.573218",
     "exception": false,
     "start_time": "2023-02-13T05:57:24.554226",
     "status": "completed"
    },
    "tags": []
   },
   "outputs": [],
   "source": [
    "class ShakespeareGPT(nn.Module):\n",
    "    def __init__(self,Config):\n",
    "        super().__init__()\n",
    "        \n",
    "        self.n_embed = Config.n_embed\n",
    "        self.block_size = Config.block_size\n",
    "        \n",
    "        self.token_embedding_table = nn.Embedding(Config.vocab_size,self.n_embed)\n",
    "        self.pos_embedding_table = nn.Embedding(self.block_size, self.n_embed)\n",
    "        \n",
    "        self.blocks = nn.Sequential(\n",
    "            *[TransformerBlock(Config)]*Config.n_layers,\n",
    "            nn.LayerNorm(self.n_embed)\n",
    "        )\n",
    "\n",
    "        self.lm_head = nn.Linear(self.n_embed,Config.vocab_size)\n",
    "        \n",
    "    def forward(self,idx):\n",
    "        \n",
    "        B,T = idx.shape\n",
    "        \n",
    "        token_embs = self.token_embedding_table(idx)\n",
    "        pos_embs = self.pos_embedding_table(torch.arange(T,device=Config.device))\n",
    "        \n",
    "        \n",
    "        x = token_embs + pos_embs\n",
    "        x = self.blocks(x)\n",
    "        logits = self.lm_head(x)\n",
    "        \n",
    "        return logits\n",
    "\n",
    "        \n",
    "    def generate(self,idx,total):\n",
    "        for _ in range(total):\n",
    "            idx_cond = idx[:, -self.block_size:]\n",
    "            logits= self(idx_cond)\n",
    "            logits = logits[:, -1, :]\n",
    "            probs = F.softmax(logits, dim=-1)\n",
    "            idx_next = torch.multinomial(probs, num_samples=1)\n",
    "            idx = torch.cat((idx, idx_next), dim=1)\n",
    "        return idx\n",
    "            "
   ]
  },
  {
   "cell_type": "markdown",
   "id": "813b2291",
   "metadata": {
    "papermill": {
     "duration": 0.006353,
     "end_time": "2023-02-13T05:57:24.585823",
     "exception": false,
     "start_time": "2023-02-13T05:57:24.579470",
     "status": "completed"
    },
    "tags": []
   },
   "source": [
    "# Training"
   ]
  },
  {
   "cell_type": "code",
   "execution_count": 11,
   "id": "b4079731",
   "metadata": {
    "execution": {
     "iopub.execute_input": "2023-02-13T05:57:24.599923Z",
     "iopub.status.busy": "2023-02-13T05:57:24.599461Z",
     "iopub.status.idle": "2023-02-13T05:57:24.902307Z",
     "shell.execute_reply": "2023-02-13T05:57:24.901351Z"
    },
    "papermill": {
     "duration": 0.312241,
     "end_time": "2023-02-13T05:57:24.904678",
     "exception": false,
     "start_time": "2023-02-13T05:57:24.592437",
     "status": "completed"
    },
    "tags": []
   },
   "outputs": [],
   "source": [
    "train_ds = ShakespeareDataset(Config)\n",
    "val_ds = ShakespeareDataset(Config,is_test=True)"
   ]
  },
  {
   "cell_type": "code",
   "execution_count": 12,
   "id": "dfeb8b85",
   "metadata": {
    "execution": {
     "iopub.execute_input": "2023-02-13T05:57:24.919264Z",
     "iopub.status.busy": "2023-02-13T05:57:24.918972Z",
     "iopub.status.idle": "2023-02-13T05:57:29.326346Z",
     "shell.execute_reply": "2023-02-13T05:57:29.325387Z"
    },
    "papermill": {
     "duration": 4.417295,
     "end_time": "2023-02-13T05:57:29.328860",
     "exception": false,
     "start_time": "2023-02-13T05:57:24.911565",
     "status": "completed"
    },
    "tags": []
   },
   "outputs": [],
   "source": [
    "lm = ShakespeareGPT(Config)\n",
    "lm = lm.to(device=Config.device)"
   ]
  },
  {
   "cell_type": "code",
   "execution_count": 13,
   "id": "f3d6097f",
   "metadata": {
    "execution": {
     "iopub.execute_input": "2023-02-13T05:57:29.345095Z",
     "iopub.status.busy": "2023-02-13T05:57:29.343545Z",
     "iopub.status.idle": "2023-02-13T05:57:29.349302Z",
     "shell.execute_reply": "2023-02-13T05:57:29.348424Z"
    },
    "papermill": {
     "duration": 0.015875,
     "end_time": "2023-02-13T05:57:29.351630",
     "exception": false,
     "start_time": "2023-02-13T05:57:29.335755",
     "status": "completed"
    },
    "tags": []
   },
   "outputs": [],
   "source": [
    "optim = torch.optim.AdamW(lm.parameters(), lr=Config.lr)"
   ]
  },
  {
   "cell_type": "code",
   "execution_count": 14,
   "id": "299a6655",
   "metadata": {
    "execution": {
     "iopub.execute_input": "2023-02-13T05:57:29.365720Z",
     "iopub.status.busy": "2023-02-13T05:57:29.365426Z",
     "iopub.status.idle": "2023-02-13T05:57:29.370301Z",
     "shell.execute_reply": "2023-02-13T05:57:29.369322Z"
    },
    "papermill": {
     "duration": 0.014494,
     "end_time": "2023-02-13T05:57:29.372451",
     "exception": false,
     "start_time": "2023-02-13T05:57:29.357957",
     "status": "completed"
    },
    "tags": []
   },
   "outputs": [],
   "source": [
    "def loss_fn(logits, targets):\n",
    "    B,T,C = logits.shape\n",
    "    logits = logits.view(B*T, C)\n",
    "    targets = targets.view(B*T)\n",
    "    loss = F.cross_entropy(logits,targets)\n",
    "    return loss"
   ]
  },
  {
   "cell_type": "code",
   "execution_count": 15,
   "id": "58cf851d",
   "metadata": {
    "execution": {
     "iopub.execute_input": "2023-02-13T05:57:29.386845Z",
     "iopub.status.busy": "2023-02-13T05:57:29.386087Z",
     "iopub.status.idle": "2023-02-13T05:57:29.395748Z",
     "shell.execute_reply": "2023-02-13T05:57:29.394919Z"
    },
    "papermill": {
     "duration": 0.018899,
     "end_time": "2023-02-13T05:57:29.397634",
     "exception": false,
     "start_time": "2023-02-13T05:57:29.378735",
     "status": "completed"
    },
    "tags": []
   },
   "outputs": [],
   "source": [
    "def train_N_iters():\n",
    "    lm.train()\n",
    "    train_step_losses = []\n",
    "    for batch in tqdm(range(Config.train_iters)):\n",
    "        optim.zero_grad()\n",
    "        inputs, targets = train_ds.get()\n",
    "        inputs, targets = inputs.to(device=Config.device), targets.to(device=Config.device)\n",
    "        logits = lm(inputs)\n",
    "        loss = loss_fn(logits,targets)\n",
    "        loss.backward()\n",
    "        optim.step()\n",
    "        train_step_losses.append(loss.item())\n",
    "        \n",
    "        if batch%(Config.train_iters//10)==0 or batch==Config.train_iters-1:\n",
    "            print(f\"batch {batch} train step loss: {loss.item()}\")\n",
    "        \n",
    "        del inputs, targets, loss, logits\n",
    "        \n",
    "    return train_step_losses\n",
    "    \n",
    "@torch.no_grad()\n",
    "def valid_N_iters():\n",
    "    lm.eval()\n",
    "    val_step_losses = []\n",
    "    for batch in tqdm(range(Config.val_iters)):\n",
    "        inputs, targets = val_ds.get()\n",
    "        inputs, targets = inputs.to(device=Config.device), targets.to(device=Config.device)\n",
    "        logits = lm(inputs)\n",
    "        loss = loss_fn(logits,targets)\n",
    "        val_step_losses.append(loss.item())\n",
    "        \n",
    "        if batch%(Config.val_iters//10)==0 or batch==Config.val_iters-1:\n",
    "            print(f\"batch {batch} valid step loss: {loss.item()}\")\n",
    "        \n",
    "        del inputs, targets, loss, logits\n",
    "    \n",
    "    return val_step_losses"
   ]
  },
  {
   "cell_type": "code",
   "execution_count": 16,
   "id": "abe8b27d",
   "metadata": {
    "execution": {
     "iopub.execute_input": "2023-02-13T05:57:29.412252Z",
     "iopub.status.busy": "2023-02-13T05:57:29.411317Z",
     "iopub.status.idle": "2023-02-13T05:57:29.416737Z",
     "shell.execute_reply": "2023-02-13T05:57:29.415937Z"
    },
    "papermill": {
     "duration": 0.014604,
     "end_time": "2023-02-13T05:57:29.418727",
     "exception": false,
     "start_time": "2023-02-13T05:57:29.404123",
     "status": "completed"
    },
    "tags": []
   },
   "outputs": [],
   "source": [
    "def save_lm():\n",
    "    state_dict = lm.state_dict()\n",
    "    save_path = Path('./').resolve() / 'shakespeareGPT'\n",
    "    save_path.mkdir(exist_ok=True)\n",
    "    model_path = save_path / f'shakespeareGPT.pth'\n",
    "    torch.save(state_dict, model_path)"
   ]
  },
  {
   "cell_type": "code",
   "execution_count": 17,
   "id": "75a57f5b",
   "metadata": {
    "execution": {
     "iopub.execute_input": "2023-02-13T05:57:29.433484Z",
     "iopub.status.busy": "2023-02-13T05:57:29.432710Z",
     "iopub.status.idle": "2023-02-13T05:57:29.437416Z",
     "shell.execute_reply": "2023-02-13T05:57:29.436640Z"
    },
    "papermill": {
     "duration": 0.013925,
     "end_time": "2023-02-13T05:57:29.439243",
     "exception": false,
     "start_time": "2023-02-13T05:57:29.425318",
     "status": "completed"
    },
    "tags": []
   },
   "outputs": [],
   "source": [
    "def train_lm():\n",
    "    train_losses = train_N_iters()\n",
    "    valid_losses = valid_N_iters()\n",
    "    save_lm()\n",
    "    return train_losses, valid_losses"
   ]
  },
  {
   "cell_type": "code",
   "execution_count": 18,
   "id": "6daf9796",
   "metadata": {
    "execution": {
     "iopub.execute_input": "2023-02-13T05:57:29.454296Z",
     "iopub.status.busy": "2023-02-13T05:57:29.453462Z",
     "iopub.status.idle": "2023-02-13T06:19:59.412839Z",
     "shell.execute_reply": "2023-02-13T06:19:59.411190Z"
    },
    "papermill": {
     "duration": 1349.969252,
     "end_time": "2023-02-13T06:19:59.414993",
     "exception": false,
     "start_time": "2023-02-13T05:57:29.445741",
     "status": "completed"
    },
    "tags": []
   },
   "outputs": [
    {
     "data": {
      "application/vnd.jupyter.widget-view+json": {
       "model_id": "3cb6088855b24e2ea911355cfff41423",
       "version_major": 2,
       "version_minor": 0
      },
      "text/plain": [
       "  0%|          | 0/10000 [00:00<?, ?it/s]"
      ]
     },
     "metadata": {},
     "output_type": "display_data"
    },
    {
     "name": "stdout",
     "output_type": "stream",
     "text": [
      "batch 0 train step loss: 4.363295555114746\n",
      "batch 1000 train step loss: 2.407210111618042\n",
      "batch 2000 train step loss: 1.9634146690368652\n",
      "batch 3000 train step loss: 1.7862809896469116\n",
      "batch 4000 train step loss: 1.666271686553955\n",
      "batch 5000 train step loss: 1.6810781955718994\n",
      "batch 6000 train step loss: 1.622477650642395\n",
      "batch 7000 train step loss: 1.6030973196029663\n",
      "batch 8000 train step loss: 1.5830708742141724\n",
      "batch 9000 train step loss: 1.5901477336883545\n",
      "batch 9999 train step loss: 1.5448710918426514\n"
     ]
    },
    {
     "data": {
      "application/vnd.jupyter.widget-view+json": {
       "model_id": "109e6e32496649a4a881f4db5d44e228",
       "version_major": 2,
       "version_minor": 0
      },
      "text/plain": [
       "  0%|          | 0/1000 [00:00<?, ?it/s]"
      ]
     },
     "metadata": {},
     "output_type": "display_data"
    },
    {
     "name": "stdout",
     "output_type": "stream",
     "text": [
      "batch 0 valid step loss: 1.7208549976348877\n",
      "batch 100 valid step loss: 1.6916872262954712\n",
      "batch 200 valid step loss: 1.6771588325500488\n",
      "batch 300 valid step loss: 1.7248296737670898\n",
      "batch 400 valid step loss: 1.6557551622390747\n",
      "batch 500 valid step loss: 1.6752554178237915\n",
      "batch 600 valid step loss: 1.6725188493728638\n",
      "batch 700 valid step loss: 1.6870540380477905\n",
      "batch 800 valid step loss: 1.6784504652023315\n",
      "batch 900 valid step loss: 1.6979082822799683\n",
      "batch 999 valid step loss: 1.6906415224075317\n"
     ]
    }
   ],
   "source": [
    "tl,vl=train_lm()"
   ]
  },
  {
   "cell_type": "markdown",
   "id": "653c99bb",
   "metadata": {
    "papermill": {
     "duration": 0.007739,
     "end_time": "2023-02-13T06:19:59.431091",
     "exception": false,
     "start_time": "2023-02-13T06:19:59.423352",
     "status": "completed"
    },
    "tags": []
   },
   "source": [
    "# Loss Plots"
   ]
  },
  {
   "cell_type": "code",
   "execution_count": 19,
   "id": "2ef43984",
   "metadata": {
    "execution": {
     "iopub.execute_input": "2023-02-13T06:19:59.449213Z",
     "iopub.status.busy": "2023-02-13T06:19:59.448266Z",
     "iopub.status.idle": "2023-02-13T06:19:59.696299Z",
     "shell.execute_reply": "2023-02-13T06:19:59.695413Z"
    },
    "papermill": {
     "duration": 0.259406,
     "end_time": "2023-02-13T06:19:59.698402",
     "exception": false,
     "start_time": "2023-02-13T06:19:59.438996",
     "status": "completed"
    },
    "tags": []
   },
   "outputs": [
    {
     "data": {
      "image/png": "[encoded data removed]",
      "text/plain": [
       "<Figure size 432x288 with 1 Axes>"
      ]
     },
     "metadata": {
      "needs_background": "light"
     },
     "output_type": "display_data"
    }
   ],
   "source": [
    "plt.plot(tl,label='train loss',color='orange')\n",
    "plt.plot(vl,label='valid loss',color='blue')\n",
    "plt.title('Shakespeare GPT Losses')\n",
    "plt.legend()\n",
    "plt.show()"
   ]
  },
  {
   "cell_type": "markdown",
   "id": "6f72ad3c",
   "metadata": {
    "papermill": {
     "duration": 0.007928,
     "end_time": "2023-02-13T06:19:59.715085",
     "exception": false,
     "start_time": "2023-02-13T06:19:59.707157",
     "status": "completed"
    },
    "tags": []
   },
   "source": [
    "# Generating"
   ]
  },
  {
   "cell_type": "code",
   "execution_count": 20,
   "id": "354ffca0",
   "metadata": {
    "execution": {
     "iopub.execute_input": "2023-02-13T06:19:59.734068Z",
     "iopub.status.busy": "2023-02-13T06:19:59.732579Z",
     "iopub.status.idle": "2023-02-13T06:20:19.884692Z",
     "shell.execute_reply": "2023-02-13T06:20:19.883503Z"
    },
    "papermill": {
     "duration": 20.163472,
     "end_time": "2023-02-13T06:20:19.886749",
     "exception": false,
     "start_time": "2023-02-13T06:19:59.723277",
     "status": "completed"
    },
    "tags": []
   },
   "outputs": [
    {
     "name": "stdout",
     "output_type": "stream",
     "text": [
      "generated (100 tokens)\n",
      "==================================================\n",
      "\n",
      "But all off in me speak heave so sweet\n",
      "Is a serve in guility, love in a blooking,\n",
      "To-more power spea\n",
      "==================================================\n",
      "\n",
      "\n",
      "generated (300 tokens)\n",
      "==================================================\n",
      "\n",
      "\n",
      "ROMEO:\n",
      "Go, and your grarengt.\n",
      "\n",
      "DUCHESTINGS:\n",
      "Smillate this, deputy, say!\n",
      "\n",
      "LUCIO:\n",
      "What? by hence? Well, my viel do; is sea\n",
      "Will, my the prible ads day, my land,\n",
      "He secometitulast King shall shall turder'd Redgius,\n",
      "Slittle unlaintends.\n",
      "\n",
      "LAD OF Friarst,\n",
      "What the so?\n",
      "\n",
      "Provant: You doubt me train:\n",
      "That g\n",
      "==================================================\n",
      "\n",
      "\n",
      "generated (500 tokens)\n",
      "==================================================\n",
      "\n",
      "\n",
      "QUEEN MARGARET:\n",
      "You hast with your eyes wound\n",
      "Thou may and up piection to of begill cet\n",
      "To boy.\n",
      "\n",
      "QUEEN MARGARET:\n",
      "Clower; and be you are awas you feastly, with that hithee, I should many out\n",
      "By heave shallin have I am one evenget: where see\n",
      "A did guildly you, done be down, 'tis shall starvething: your be has shall.\n",
      "\n",
      "LUCdipent:\n",
      "I have promine prince, so, frunts this towardfull in me.\n",
      "\n",
      "The but to you:\n",
      "From no be be triction, iftake of the prona,\n",
      "To then wint time\n",
      "This grave gonesh, if yourself chu\n",
      "==================================================\n",
      "\n",
      "\n",
      "generated (700 tokens)\n",
      "==================================================\n",
      "\n",
      "Your father scrown fless and a hange in in vance\n",
      "\n",
      "DUKE VINCENTIO:\n",
      "\n",
      "YORK:\n",
      "Feasurphese whose kings?\n",
      "\n",
      "BUCKINGHAM:\n",
      "By you'en is. Welcomeo I don, sir.\n",
      "\n",
      "EDWARD:\n",
      "Dood good needs it better? what dread my crown, where of him\n",
      "Is had with all-hargese the-moright, grue-fathe not\n",
      "To kneeler; you in your we are 'man else: and you daught in all,\n",
      "And they more unded, seath; guard eatly mine\n",
      "Recred me, since or tittle my crave to-morrown; but up\n",
      "The galemand be somethe king shall not of the dary, firs, thee,\n",
      "And time, I amontainst? If it your keep though prive.\n",
      "\n",
      "FRIANA:\n",
      "Why, you buy he take offent;\n",
      "But to virthy live you prothense?\n",
      "Strity. Provost I cample-fast, here think me low\n",
      "so me with an your him.\n",
      "\n",
      "ISA\n",
      "==================================================\n",
      "\n",
      "\n",
      "generated (1000 tokens)\n",
      "==================================================\n",
      "\n",
      "Should sever-Signio, here done fasterous\n",
      "upon to miscorrer break with fids,\n",
      "To sland, which undrees the\n",
      "make of Jamiaturous, aften's once and sovide.\n",
      "Was till:\n",
      "They preturablic to my father the Duilits: noble his betruch a held,\n",
      "And that gentle the drun; presurch with jumpey, go were,\n",
      "And hithe still clamen formy truly son or fape othe\n",
      "Voud This Julieverength his fapt this for drow.\n",
      "\n",
      "ROMEO:\n",
      "God thy lord, him, sirst you were proport.\n",
      "\n",
      "VOLUMNIA:\n",
      "I will to then live your not colscessent, pexiler is in in then strate?\n",
      "\n",
      "ESCALUS:\n",
      "Well:\n",
      "And help full conspossitor present me pity.\n",
      "\n",
      "HENRY ANGORY:\n",
      "Why are you let Come youndia, Englark'd, look'd which left up\n",
      "Minds free Montry, thy lord nup if stant us vardon spitory that\n",
      "Ofce, what their was whom's rice in joy and quile:\n",
      "\n",
      "EDWARD:\n",
      "Third stays again; my grace send him. You were live hear powere poor.\n",
      "\n",
      "Nurse:\n",
      "Evengel!\n",
      "Shall to dance, thing for Murderity becapules, with his sea,\n",
      "Who of strain, as foe does judgenest earlush\n",
      "Stance shall perform life,\n",
      "==================================================\n",
      "\n",
      "\n"
     ]
    }
   ],
   "source": [
    "generated_texts = []\n",
    "for length in [100,300,500,700,1000]:\n",
    "    generated = lm.generate(\n",
    "    torch.zeros((1,1),dtype=torch.long,device=Config.device), # initial context 0\n",
    "    total=length\n",
    ")\n",
    "    generated = tokenizer.decode(generated[0])\n",
    "    text=f'generated ({length} tokens)\\n{\"=\"*50}\\n{generated}\\n{\"=\"*50}\\n\\n'\n",
    "    generated_texts.append(text)\n",
    "    print(text)"
   ]
  },
  {
   "cell_type": "code",
   "execution_count": 21,
   "id": "79c63ba8",
   "metadata": {
    "execution": {
     "iopub.execute_input": "2023-02-13T06:20:19.906835Z",
     "iopub.status.busy": "2023-02-13T06:20:19.905910Z",
     "iopub.status.idle": "2023-02-13T06:20:19.911371Z",
     "shell.execute_reply": "2023-02-13T06:20:19.910448Z"
    },
    "papermill": {
     "duration": 0.017688,
     "end_time": "2023-02-13T06:20:19.913404",
     "exception": false,
     "start_time": "2023-02-13T06:20:19.895716",
     "status": "completed"
    },
    "tags": []
   },
   "outputs": [],
   "source": [
    "with open('generated.txt','w') as f:\n",
    "    for text in generated_texts:\n",
    "        f.write(text)"
   ]
  },
  {
   "cell_type": "markdown",
   "id": "30568e1d",
   "metadata": {
    "papermill": {
     "duration": 0.008486,
     "end_time": "2023-02-13T06:20:19.930283",
     "exception": false,
     "start_time": "2023-02-13T06:20:19.921797",
     "status": "completed"
    },
    "tags": []
   },
   "source": [
    "---\n",
    "\n",
    "Full code: [shakespeareGPT](https://github.com/shreydan/shakespeareGPT)\n",
    "\n",
    "Follow [@shreydan](https://kaggle.com/shreydan) for more :)"
   ]
  }
 ],
 "metadata": {
  "kernelspec": {
   "display_name": "Python 3",
   "language": "python",
   "name": "python3"
  },
  "language_info": {
   "codemirror_mode": {
    "name": "ipython",
    "version": 3
   },
   "file_extension": ".py",
   "mimetype": "text/x-python",
   "name": "python",
   "nbconvert_exporter": "python",
   "pygments_lexer": "ipython3",
   "version": "3.7.12"
  },
  "papermill": {
   "default_parameters": {},
   "duration": 1386.268694,
   "end_time": "2023-02-13T06:20:21.176893",
   "environment_variables": {},
   "exception": null,
   "input_path": "__notebook__.ipynb",
   "output_path": "__notebook__.ipynb",
   "parameters": {},
   "start_time": "2023-02-13T05:57:14.908199",
   "version": "2.3.4"
  },
  "widgets": {
   "application/vnd.jupyter.widget-state+json": {
    "state": {
     "06d55743948e430cbd92a1bae12c1a55": {
      "model_module": "@jupyter-widgets/controls",
      "model_module_version": "1.5.0",
      "model_name": "ProgressStyleModel",
      "state": {
       "_model_module": "@jupyter-widgets/controls",
       "_model_module_version": "1.5.0",
       "_model_name": "ProgressStyleModel",
       "_view_count": null,
       "_view_module": "@jupyter-widgets/base",
       "_view_module_version": "1.2.0",
       "_view_name": "StyleView",
       "bar_color": null,
       "description_width": ""
      }
     },
     "109e6e32496649a4a881f4db5d44e228": {
      "model_module": "@jupyter-widgets/controls",
      "model_module_version": "1.5.0",
      "model_name": "HBoxModel",
      "state": {
       "_dom_classes": [],
       "_model_module": "@jupyter-widgets/controls",
       "_model_module_version": "1.5.0",
       "_model_name": "HBoxModel",
       "_view_count": null,
       "_view_module": "@jupyter-widgets/controls",
       "_view_module_version": "1.5.0",
       "_view_name": "HBoxView",
       "box_style": "",
       "children": [
        "IPY_MODEL_d9aef63ed9af44bc8fc76f32d238583f",
        "IPY_MODEL_af3556dbea874e0c9096d79af7c01ca6",
        "IPY_MODEL_87bec216136441e79242f0853771fe15"
       ],
       "layout": "IPY_MODEL_6e0e787e80ea47498c72d07eede33cde"
      }
     },
     "1b98b630f9c44a339a2637361b8e6c1d": {
      "model_module": "@jupyter-widgets/base",
      "model_module_version": "1.2.0",
      "model_name": "LayoutModel",
      "state": {
       "_model_module": "@jupyter-widgets/base",
       "_model_module_version": "1.2.0",
       "_model_name": "LayoutModel",
       "_view_count": null,
       "_view_module": "@jupyter-widgets/base",
       "_view_module_version": "1.2.0",
       "_view_name": "LayoutView",
       "align_content": null,
       "align_items": null,
       "align_self": null,
       "border": null,
       "bottom": null,
       "display": null,
       "flex": null,
       "flex_flow": null,
       "grid_area": null,
       "grid_auto_columns": null,
       "grid_auto_flow": null,
       "grid_auto_rows": null,
       "grid_column": null,
       "grid_gap": null,
       "grid_row": null,
       "grid_template_areas": null,
       "grid_template_columns": null,
       "grid_template_rows": null,
       "height": null,
       "justify_content": null,
       "justify_items": null,
       "left": null,
       "margin": null,
       "max_height": null,
       "max_width": null,
       "min_height": null,
       "min_width": null,
       "object_fit": null,
       "object_position": null,
       "order": null,
       "overflow": null,
       "overflow_x": null,
       "overflow_y": null,
       "padding": null,
       "right": null,
       "top": null,
       "visibility": null,
       "width": null
      }
     },
     "31a27f45bcbe46ada16ef95d16de67a8": {
      "model_module": "@jupyter-widgets/base",
      "model_module_version": "1.2.0",
      "model_name": "LayoutModel",
      "state": {
       "_model_module": "@jupyter-widgets/base",
       "_model_module_version": "1.2.0",
       "_model_name": "LayoutModel",
       "_view_count": null,
       "_view_module": "@jupyter-widgets/base",
       "_view_module_version": "1.2.0",
       "_view_name": "LayoutView",
       "align_content": null,
       "align_items": null,
       "align_self": null,
       "border": null,
       "bottom": null,
       "display": null,
       "flex": null,
       "flex_flow": null,
       "grid_area": null,
       "grid_auto_columns": null,
       "grid_auto_flow": null,
       "grid_auto_rows": null,
       "grid_column": null,
       "grid_gap": null,
       "grid_row": null,
       "grid_template_areas": null,
       "grid_template_columns": null,
       "grid_template_rows": null,
       "height": null,
       "justify_content": null,
       "justify_items": null,
       "left": null,
       "margin": null,
       "max_height": null,
       "max_width": null,
       "min_height": null,
       "min_width": null,
       "object_fit": null,
       "object_position": null,
       "order": null,
       "overflow": null,
       "overflow_x": null,
       "overflow_y": null,
       "padding": null,
       "right": null,
       "top": null,
       "visibility": null,
       "width": null
      }
     },
     "3cb6088855b24e2ea911355cfff41423": {
      "model_module": "@jupyter-widgets/controls",
      "model_module_version": "1.5.0",
      "model_name": "HBoxModel",
      "state": {
       "_dom_classes": [],
       "_model_module": "@jupyter-widgets/controls",
       "_model_module_version": "1.5.0",
       "_model_name": "HBoxModel",
       "_view_count": null,
       "_view_module": "@jupyter-widgets/controls",
       "_view_module_version": "1.5.0",
       "_view_name": "HBoxView",
       "box_style": "",
       "children": [
        "IPY_MODEL_eedea57235ea4ffcafff7f884e9a2898",
        "IPY_MODEL_d86242013a1d4dfdb5e0cb50ccf5a54b",
        "IPY_MODEL_59736d81310345fbbe798595417c9dc3"
       ],
       "layout": "IPY_MODEL_1b98b630f9c44a339a2637361b8e6c1d"
      }
     },
     "59736d81310345fbbe798595417c9dc3": {
      "model_module": "@jupyter-widgets/controls",
      "model_module_version": "1.5.0",
      "model_name": "HTMLModel",
      "state": {
       "_dom_classes": [],
       "_model_module": "@jupyter-widgets/controls",
       "_model_module_version": "1.5.0",
       "_model_name": "HTMLModel",
       "_view_count": null,
       "_view_module": "@jupyter-widgets/controls",
       "_view_module_version": "1.5.0",
       "_view_name": "HTMLView",
       "description": "",
       "description_tooltip": null,
       "layout": "IPY_MODEL_acfd058c8468454d9ebdc23afedd3856",
       "placeholder": "​",
       "style": "IPY_MODEL_fb9d4b9ecf584e62a4a4ad9cea0da4cc",
       "value": " 10000/10000 [21:52&lt;00:00,  7.63it/s]"
      }
     },
     "6a28d7ec8e8249d390d40fa34f3e2e5f": {
      "model_module": "@jupyter-widgets/controls",
      "model_module_version": "1.5.0",
      "model_name": "ProgressStyleModel",
      "state": {
       "_model_module": "@jupyter-widgets/controls",
       "_model_module_version": "1.5.0",
       "_model_name": "ProgressStyleModel",
       "_view_count": null,
       "_view_module": "@jupyter-widgets/base",
       "_view_module_version": "1.2.0",
       "_view_name": "StyleView",
       "bar_color": null,
       "description_width": ""
      }
     },
     "6e0e787e80ea47498c72d07eede33cde": {
      "model_module": "@jupyter-widgets/base",
      "model_module_version": "1.2.0",
      "model_name": "LayoutModel",
      "state": {
       "_model_module": "@jupyter-widgets/base",
       "_model_module_version": "1.2.0",
       "_model_name": "LayoutModel",
       "_view_count": null,
       "_view_module": "@jupyter-widgets/base",
       "_view_module_version": "1.2.0",
       "_view_name": "LayoutView",
       "align_content": null,
       "align_items": null,
       "align_self": null,
       "border": null,
       "bottom": null,
       "display": null,
       "flex": null,
       "flex_flow": null,
       "grid_area": null,
       "grid_auto_columns": null,
       "grid_auto_flow": null,
       "grid_auto_rows": null,
       "grid_column": null,
       "grid_gap": null,
       "grid_row": null,
       "grid_template_areas": null,
       "grid_template_columns": null,
       "grid_template_rows": null,
       "height": null,
       "justify_content": null,
       "justify_items": null,
       "left": null,
       "margin": null,
       "max_height": null,
       "max_width": null,
       "min_height": null,
       "min_width": null,
       "object_fit": null,
       "object_position": null,
       "order": null,
       "overflow": null,
       "overflow_x": null,
       "overflow_y": null,
       "padding": null,
       "right": null,
       "top": null,
       "visibility": null,
       "width": null
      }
     },
     "70822f52503f4736b9a485eced18e77a": {
      "model_module": "@jupyter-widgets/controls",
      "model_module_version": "1.5.0",
      "model_name": "DescriptionStyleModel",
      "state": {
       "_model_module": "@jupyter-widgets/controls",
       "_model_module_version": "1.5.0",
       "_model_name": "DescriptionStyleModel",
       "_view_count": null,
       "_view_module": "@jupyter-widgets/base",
       "_view_module_version": "1.2.0",
       "_view_name": "StyleView",
       "description_width": ""
      }
     },
     "7ed55922a86448da95646cf8de3d2b50": {
      "model_module": "@jupyter-widgets/controls",
      "model_module_version": "1.5.0",
      "model_name": "DescriptionStyleModel",
      "state": {
       "_model_module": "@jupyter-widgets/controls",
       "_model_module_version": "1.5.0",
       "_model_name": "DescriptionStyleModel",
       "_view_count": null,
       "_view_module": "@jupyter-widgets/base",
       "_view_module_version": "1.2.0",
       "_view_name": "StyleView",
       "description_width": ""
      }
     },
     "861a8814e7a6450084af40fc2e3d13e3": {
      "model_module": "@jupyter-widgets/base",
      "model_module_version": "1.2.0",
      "model_name": "LayoutModel",
      "state": {
       "_model_module": "@jupyter-widgets/base",
       "_model_module_version": "1.2.0",
       "_model_name": "LayoutModel",
       "_view_count": null,
       "_view_module": "@jupyter-widgets/base",
       "_view_module_version": "1.2.0",
       "_view_name": "LayoutView",
       "align_content": null,
       "align_items": null,
       "align_self": null,
       "border": null,
       "bottom": null,
       "display": null,
       "flex": null,
       "flex_flow": null,
       "grid_area": null,
       "grid_auto_columns": null,
       "grid_auto_flow": null,
       "grid_auto_rows": null,
       "grid_column": null,
       "grid_gap": null,
       "grid_row": null,
       "grid_template_areas": null,
       "grid_template_columns": null,
       "grid_template_rows": null,
       "height": null,
       "justify_content": null,
       "justify_items": null,
       "left": null,
       "margin": null,
       "max_height": null,
       "max_width": null,
       "min_height": null,
       "min_width": null,
       "object_fit": null,
       "object_position": null,
       "order": null,
       "overflow": null,
       "overflow_x": null,
       "overflow_y": null,
       "padding": null,
       "right": null,
       "top": null,
       "visibility": null,
       "width": null
      }
     },
     "87bec216136441e79242f0853771fe15": {
      "model_module": "@jupyter-widgets/controls",
      "model_module_version": "1.5.0",
      "model_name": "HTMLModel",
      "state": {
       "_dom_classes": [],
       "_model_module": "@jupyter-widgets/controls",
       "_model_module_version": "1.5.0",
       "_model_name": "HTMLModel",
       "_view_count": null,
       "_view_module": "@jupyter-widgets/controls",
       "_view_module_version": "1.5.0",
       "_view_name": "HTMLView",
       "description": "",
       "description_tooltip": null,
       "layout": "IPY_MODEL_c99fb9cd50054b18b11a628f7f972a36",
       "placeholder": "​",
       "style": "IPY_MODEL_a501aa9358274943ba2483da227f2e6a",
       "value": " 1000/1000 [00:37&lt;00:00, 26.18it/s]"
      }
     },
     "a501aa9358274943ba2483da227f2e6a": {
      "model_module": "@jupyter-widgets/controls",
      "model_module_version": "1.5.0",
      "model_name": "DescriptionStyleModel",
      "state": {
       "_model_module": "@jupyter-widgets/controls",
       "_model_module_version": "1.5.0",
       "_model_name": "DescriptionStyleModel",
       "_view_count": null,
       "_view_module": "@jupyter-widgets/base",
       "_view_module_version": "1.2.0",
       "_view_name": "StyleView",
       "description_width": ""
      }
     },
     "acfd058c8468454d9ebdc23afedd3856": {
      "model_module": "@jupyter-widgets/base",
      "model_module_version": "1.2.0",
      "model_name": "LayoutModel",
      "state": {
       "_model_module": "@jupyter-widgets/base",
       "_model_module_version": "1.2.0",
       "_model_name": "LayoutModel",
       "_view_count": null,
       "_view_module": "@jupyter-widgets/base",
       "_view_module_version": "1.2.0",
       "_view_name": "LayoutView",
       "align_content": null,
       "align_items": null,
       "align_self": null,
       "border": null,
       "bottom": null,
       "display": null,
       "flex": null,
       "flex_flow": null,
       "grid_area": null,
       "grid_auto_columns": null,
       "grid_auto_flow": null,
       "grid_auto_rows": null,
       "grid_column": null,
       "grid_gap": null,
       "grid_row": null,
       "grid_template_areas": null,
       "grid_template_columns": null,
       "grid_template_rows": null,
       "height": null,
       "justify_content": null,
       "justify_items": null,
       "left": null,
       "margin": null,
       "max_height": null,
       "max_width": null,
       "min_height": null,
       "min_width": null,
       "object_fit": null,
       "object_position": null,
       "order": null,
       "overflow": null,
       "overflow_x": null,
       "overflow_y": null,
       "padding": null,
       "right": null,
       "top": null,
       "visibility": null,
       "width": null
      }
     },
     "af3556dbea874e0c9096d79af7c01ca6": {
      "model_module": "@jupyter-widgets/controls",
      "model_module_version": "1.5.0",
      "model_name": "FloatProgressModel",
      "state": {
       "_dom_classes": [],
       "_model_module": "@jupyter-widgets/controls",
       "_model_module_version": "1.5.0",
       "_model_name": "FloatProgressModel",
       "_view_count": null,
       "_view_module": "@jupyter-widgets/controls",
       "_view_module_version": "1.5.0",
       "_view_name": "ProgressView",
       "bar_style": "success",
       "description": "",
       "description_tooltip": null,
       "layout": "IPY_MODEL_31a27f45bcbe46ada16ef95d16de67a8",
       "max": 1000.0,
       "min": 0.0,
       "orientation": "horizontal",
       "style": "IPY_MODEL_6a28d7ec8e8249d390d40fa34f3e2e5f",
       "value": 1000.0
      }
     },
     "c99fb9cd50054b18b11a628f7f972a36": {
      "model_module": "@jupyter-widgets/base",
      "model_module_version": "1.2.0",
      "model_name": "LayoutModel",
      "state": {
       "_model_module": "@jupyter-widgets/base",
       "_model_module_version": "1.2.0",
       "_model_name": "LayoutModel",
       "_view_count": null,
       "_view_module": "@jupyter-widgets/base",
       "_view_module_version": "1.2.0",
       "_view_name": "LayoutView",
       "align_content": null,
       "align_items": null,
       "align_self": null,
       "border": null,
       "bottom": null,
       "display": null,
       "flex": null,
       "flex_flow": null,
       "grid_area": null,
       "grid_auto_columns": null,
       "grid_auto_flow": null,
       "grid_auto_rows": null,
       "grid_column": null,
       "grid_gap": null,
       "grid_row": null,
       "grid_template_areas": null,
       "grid_template_columns": null,
       "grid_template_rows": null,
       "height": null,
       "justify_content": null,
       "justify_items": null,
       "left": null,
       "margin": null,
       "max_height": null,
       "max_width": null,
       "min_height": null,
       "min_width": null,
       "object_fit": null,
       "object_position": null,
       "order": null,
       "overflow": null,
       "overflow_x": null,
       "overflow_y": null,
       "padding": null,
       "right": null,
       "top": null,
       "visibility": null,
       "width": null
      }
     },
     "cecd149a66534d829bae6964550b8102": {
      "model_module": "@jupyter-widgets/base",
      "model_module_version": "1.2.0",
      "model_name": "LayoutModel",
      "state": {
       "_model_module": "@jupyter-widgets/base",
       "_model_module_version": "1.2.0",
       "_model_name": "LayoutModel",
       "_view_count": null,
       "_view_module": "@jupyter-widgets/base",
       "_view_module_version": "1.2.0",
       "_view_name": "LayoutView",
       "align_content": null,
       "align_items": null,
       "align_self": null,
       "border": null,
       "bottom": null,
       "display": null,
       "flex": null,
       "flex_flow": null,
       "grid_area": null,
       "grid_auto_columns": null,
       "grid_auto_flow": null,
       "grid_auto_rows": null,
       "grid_column": null,
       "grid_gap": null,
       "grid_row": null,
       "grid_template_areas": null,
       "grid_template_columns": null,
       "grid_template_rows": null,
       "height": null,
       "justify_content": null,
       "justify_items": null,
       "left": null,
       "margin": null,
       "max_height": null,
       "max_width": null,
       "min_height": null,
       "min_width": null,
       "object_fit": null,
       "object_position": null,
       "order": null,
       "overflow": null,
       "overflow_x": null,
       "overflow_y": null,
       "padding": null,
       "right": null,
       "top": null,
       "visibility": null,
       "width": null
      }
     },
     "d86242013a1d4dfdb5e0cb50ccf5a54b": {
      "model_module": "@jupyter-widgets/controls",
      "model_module_version": "1.5.0",
      "model_name": "FloatProgressModel",
      "state": {
       "_dom_classes": [],
       "_model_module": "@jupyter-widgets/controls",
       "_model_module_version": "1.5.0",
       "_model_name": "FloatProgressModel",
       "_view_count": null,
       "_view_module": "@jupyter-widgets/controls",
       "_view_module_version": "1.5.0",
       "_view_name": "ProgressView",
       "bar_style": "success",
       "description": "",
       "description_tooltip": null,
       "layout": "IPY_MODEL_d8e5c60cacec403ea66fcaf9fe9c8fe1",
       "max": 10000.0,
       "min": 0.0,
       "orientation": "horizontal",
       "style": "IPY_MODEL_06d55743948e430cbd92a1bae12c1a55",
       "value": 10000.0
      }
     },
     "d8e5c60cacec403ea66fcaf9fe9c8fe1": {
      "model_module": "@jupyter-widgets/base",
      "model_module_version": "1.2.0",
      "model_name": "LayoutModel",
      "state": {
       "_model_module": "@jupyter-widgets/base",
       "_model_module_version": "1.2.0",
       "_model_name": "LayoutModel",
       "_view_count": null,
       "_view_module": "@jupyter-widgets/base",
       "_view_module_version": "1.2.0",
       "_view_name": "LayoutView",
       "align_content": null,
       "align_items": null,
       "align_self": null,
       "border": null,
       "bottom": null,
       "display": null,
       "flex": null,
       "flex_flow": null,
       "grid_area": null,
       "grid_auto_columns": null,
       "grid_auto_flow": null,
       "grid_auto_rows": null,
       "grid_column": null,
       "grid_gap": null,
       "grid_row": null,
       "grid_template_areas": null,
       "grid_template_columns": null,
       "grid_template_rows": null,
       "height": null,
       "justify_content": null,
       "justify_items": null,
       "left": null,
       "margin": null,
       "max_height": null,
       "max_width": null,
       "min_height": null,
       "min_width": null,
       "object_fit": null,
       "object_position": null,
       "order": null,
       "overflow": null,
       "overflow_x": null,
       "overflow_y": null,
       "padding": null,
       "right": null,
       "top": null,
       "visibility": null,
       "width": null
      }
     },
     "d9aef63ed9af44bc8fc76f32d238583f": {
      "model_module": "@jupyter-widgets/controls",
      "model_module_version": "1.5.0",
      "model_name": "HTMLModel",
      "state": {
       "_dom_classes": [],
       "_model_module": "@jupyter-widgets/controls",
       "_model_module_version": "1.5.0",
       "_model_name": "HTMLModel",
       "_view_count": null,
       "_view_module": "@jupyter-widgets/controls",
       "_view_module_version": "1.5.0",
       "_view_name": "HTMLView",
       "description": "",
       "description_tooltip": null,
       "layout": "IPY_MODEL_861a8814e7a6450084af40fc2e3d13e3",
       "placeholder": "​",
       "style": "IPY_MODEL_70822f52503f4736b9a485eced18e77a",
       "value": "100%"
      }
     },
     "eedea57235ea4ffcafff7f884e9a2898": {
      "model_module": "@jupyter-widgets/controls",
      "model_module_version": "1.5.0",
      "model_name": "HTMLModel",
      "state": {
       "_dom_classes": [],
       "_model_module": "@jupyter-widgets/controls",
       "_model_module_version": "1.5.0",
       "_model_name": "HTMLModel",
       "_view_count": null,
       "_view_module": "@jupyter-widgets/controls",
       "_view_module_version": "1.5.0",
       "_view_name": "HTMLView",
       "description": "",
       "description_tooltip": null,
       "layout": "IPY_MODEL_cecd149a66534d829bae6964550b8102",
       "placeholder": "​",
       "style": "IPY_MODEL_7ed55922a86448da95646cf8de3d2b50",
       "value": "100%"
      }
     },
     "fb9d4b9ecf584e62a4a4ad9cea0da4cc": {
      "model_module": "@jupyter-widgets/controls",
      "model_module_version": "1.5.0",
      "model_name": "DescriptionStyleModel",
      "state": {
       "_model_module": "@jupyter-widgets/controls",
       "_model_module_version": "1.5.0",
       "_model_name": "DescriptionStyleModel",
       "_view_count": null,
       "_view_module": "@jupyter-widgets/base",
       "_view_module_version": "1.2.0",
       "_view_name": "StyleView",
       "description_width": ""
      }
     }
    },
    "version_major": 2,
    "version_minor": 0
   }
  }
 },
 "nbformat": 4,
 "nbformat_minor": 5
}
