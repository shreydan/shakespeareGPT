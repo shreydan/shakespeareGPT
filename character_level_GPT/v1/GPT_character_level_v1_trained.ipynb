{
 "cells": [
  {
   "cell_type": "markdown",
   "id": "a39a114c",
   "metadata": {
    "papermill": {
     "duration": 0.010865,
     "end_time": "2023-02-13T01:38:30.100002",
     "exception": false,
     "start_time": "2023-02-13T01:38:30.089137",
     "status": "completed"
    },
    "tags": []
   },
   "source": [
    "# **Shakespeare GPT**\n",
    "---\n",
    "\n",
    "from Andrej Karpathy's Tutorial: [ Let's build GPT: from scratch, in code, spelled out. ](https://www.youtube.com/watch?v=kCc8FmEb1nY)"
   ]
  },
  {
   "cell_type": "code",
   "execution_count": 1,
   "id": "a9850816",
   "metadata": {
    "_cell_guid": "b1076dfc-b9ad-4769-8c92-a6c4dae69d19",
    "_uuid": "8f2839f25d086af736a60e9eeb907d3b93b6e0e5",
    "execution": {
     "iopub.execute_input": "2023-02-13T01:38:30.120545Z",
     "iopub.status.busy": "2023-02-13T01:38:30.120043Z",
     "iopub.status.idle": "2023-02-13T01:38:31.677601Z",
     "shell.execute_reply": "2023-02-13T01:38:31.676569Z"
    },
    "papermill": {
     "duration": 1.570752,
     "end_time": "2023-02-13T01:38:31.680225",
     "exception": false,
     "start_time": "2023-02-13T01:38:30.109473",
     "status": "completed"
    },
    "tags": []
   },
   "outputs": [
    {
     "data": {
      "text/plain": [
       "<torch._C.Generator at 0x7fead77e7e10>"
      ]
     },
     "execution_count": 1,
     "metadata": {},
     "output_type": "execute_result"
    }
   ],
   "source": [
    "import torch\n",
    "import torch.nn as nn\n",
    "import torch.nn.functional as F\n",
    "\n",
    "from dataclasses import dataclass\n",
    "\n",
    "from tqdm.auto import tqdm\n",
    "\n",
    "from pathlib import Path\n",
    "\n",
    "import matplotlib.pyplot as plt\n",
    "\n",
    "torch.manual_seed(1357)"
   ]
  },
  {
   "cell_type": "markdown",
   "id": "291d356e",
   "metadata": {
    "papermill": {
     "duration": 0.00624,
     "end_time": "2023-02-13T01:38:31.693232",
     "exception": false,
     "start_time": "2023-02-13T01:38:31.686992",
     "status": "completed"
    },
    "tags": []
   },
   "source": [
    "# Data"
   ]
  },
  {
   "cell_type": "code",
   "execution_count": 2,
   "id": "cfc00d3d",
   "metadata": {
    "execution": {
     "iopub.execute_input": "2023-02-13T01:38:31.709339Z",
     "iopub.status.busy": "2023-02-13T01:38:31.707537Z",
     "iopub.status.idle": "2023-02-13T01:38:31.726986Z",
     "shell.execute_reply": "2023-02-13T01:38:31.726116Z"
    },
    "papermill": {
     "duration": 0.029232,
     "end_time": "2023-02-13T01:38:31.729037",
     "exception": false,
     "start_time": "2023-02-13T01:38:31.699805",
     "status": "completed"
    },
    "tags": []
   },
   "outputs": [],
   "source": [
    "with open('/kaggle/input/shakespeare-full-text/shakespeare.txt','r',encoding='utf-8') as f:\n",
    "    data = f.read()"
   ]
  },
  {
   "cell_type": "markdown",
   "id": "0812c1e4",
   "metadata": {
    "papermill": {
     "duration": 0.00623,
     "end_time": "2023-02-13T01:38:31.742025",
     "exception": false,
     "start_time": "2023-02-13T01:38:31.735795",
     "status": "completed"
    },
    "tags": []
   },
   "source": [
    "# Character Level Tokenizer"
   ]
  },
  {
   "cell_type": "code",
   "execution_count": 3,
   "id": "604d64b7",
   "metadata": {
    "execution": {
     "iopub.execute_input": "2023-02-13T01:38:31.758773Z",
     "iopub.status.busy": "2023-02-13T01:38:31.757269Z",
     "iopub.status.idle": "2023-02-13T01:38:31.777896Z",
     "shell.execute_reply": "2023-02-13T01:38:31.777018Z"
    },
    "papermill": {
     "duration": 0.029909,
     "end_time": "2023-02-13T01:38:31.779893",
     "exception": false,
     "start_time": "2023-02-13T01:38:31.749984",
     "status": "completed"
    },
    "tags": []
   },
   "outputs": [],
   "source": [
    "class CharacterLevelTokenizer:\n",
    "    def __init__(self,data):\n",
    "        self.data = data\n",
    "        self.vocab = sorted(list(set(self.data)))\n",
    "        self.VOCAB_SIZE = len(self.vocab)\n",
    "        \n",
    "        self.i_s = {i:s for i,s in enumerate(self.vocab)}\n",
    "        self.s_i = {s:i for i,s in self.i_s.items()}\n",
    "        \n",
    "    def encode(self,s):\n",
    "        return torch.tensor([self.s_i[c] for c in s],dtype=torch.long)\n",
    "\n",
    "    def decode(self,s):\n",
    "        return ''.join([self.i_s[i.item()] for i in s])\n",
    "\n",
    "tokenizer = CharacterLevelTokenizer(data)"
   ]
  },
  {
   "cell_type": "markdown",
   "id": "f5a5990e",
   "metadata": {
    "papermill": {
     "duration": 0.006054,
     "end_time": "2023-02-13T01:38:31.792245",
     "exception": false,
     "start_time": "2023-02-13T01:38:31.786191",
     "status": "completed"
    },
    "tags": []
   },
   "source": [
    "# Config"
   ]
  },
  {
   "cell_type": "code",
   "execution_count": 4,
   "id": "ce3836c6",
   "metadata": {
    "execution": {
     "iopub.execute_input": "2023-02-13T01:38:31.806623Z",
     "iopub.status.busy": "2023-02-13T01:38:31.806334Z",
     "iopub.status.idle": "2023-02-13T01:38:31.872976Z",
     "shell.execute_reply": "2023-02-13T01:38:31.872009Z"
    },
    "papermill": {
     "duration": 0.0762,
     "end_time": "2023-02-13T01:38:31.875175",
     "exception": false,
     "start_time": "2023-02-13T01:38:31.798975",
     "status": "completed"
    },
    "tags": []
   },
   "outputs": [
    {
     "data": {
      "text/plain": [
       "'cuda'"
      ]
     },
     "execution_count": 4,
     "metadata": {},
     "output_type": "execute_result"
    }
   ],
   "source": [
    "@dataclass\n",
    "class Config:\n",
    "    block_size = 256 # context-length\n",
    "    batch_size = 64 # mini-batch size\n",
    "    vocab_size = tokenizer.VOCAB_SIZE\n",
    "    n_embed = 128\n",
    "    n_heads = 4\n",
    "    head_size = n_embed // n_heads # computes to 384/6=64 or 128/4=32\n",
    "    \n",
    "    n_layers = 3\n",
    "    \n",
    "    train_iters = 10_000\n",
    "    val_iters = 1000\n",
    "    lr = 3e-4\n",
    "    \n",
    "    attn_dropout = 0.1\n",
    "    block_dropout = 0.2\n",
    "    \n",
    "    device = 'cuda' if torch.cuda.is_available() else 'cpu'\n",
    "    \n",
    "Config.device"
   ]
  },
  {
   "cell_type": "markdown",
   "id": "a0a8f467",
   "metadata": {
    "papermill": {
     "duration": 0.006355,
     "end_time": "2023-02-13T01:38:31.888490",
     "exception": false,
     "start_time": "2023-02-13T01:38:31.882135",
     "status": "completed"
    },
    "tags": []
   },
   "source": [
    "# Dataset"
   ]
  },
  {
   "cell_type": "code",
   "execution_count": 5,
   "id": "db4a796e",
   "metadata": {
    "execution": {
     "iopub.execute_input": "2023-02-13T01:38:31.902632Z",
     "iopub.status.busy": "2023-02-13T01:38:31.902319Z",
     "iopub.status.idle": "2023-02-13T01:38:31.911082Z",
     "shell.execute_reply": "2023-02-13T01:38:31.910026Z"
    },
    "papermill": {
     "duration": 0.018504,
     "end_time": "2023-02-13T01:38:31.913380",
     "exception": false,
     "start_time": "2023-02-13T01:38:31.894876",
     "status": "completed"
    },
    "tags": []
   },
   "outputs": [],
   "source": [
    "class ShakespeareDataset:\n",
    "    def __init__(self,Config, is_test=False) -> None:\n",
    "        self.tokenizer = CharacterLevelTokenizer(data)\n",
    "        self.is_test = is_test\n",
    "        self.full_data = self.tokenizer.encode(self.tokenizer.data)\n",
    "        if self.is_test:\n",
    "            self.data = self.full_data[int(0.9*len(self.full_data)):]\n",
    "        else:\n",
    "            self.data = self.full_data[:int(0.9*len(self.full_data))]\n",
    "        self.block_size = Config.block_size\n",
    "        self.batch_size = Config.batch_size\n",
    "\n",
    "    def __len__(self) -> int:\n",
    "        return len(self.data)\n",
    "\n",
    "    def get_block_size(self) -> int:\n",
    "        return self.block_size\n",
    "\n",
    "    def get_vocab_size(self) -> int:\n",
    "        return self.tokenizer.VOCAB_SIZE\n",
    "\n",
    "    def get(self):\n",
    "        ix = torch.randint(len(self.data) - self.block_size, (self.batch_size,))\n",
    "        x = torch.stack([self.data[i:i+self.block_size] for i in ix])\n",
    "        y = torch.stack([self.data[i+1:i+self.block_size+1] for i in ix])\n",
    "        return x,y"
   ]
  },
  {
   "cell_type": "markdown",
   "id": "67d35adc",
   "metadata": {
    "papermill": {
     "duration": 0.006509,
     "end_time": "2023-02-13T01:38:31.926266",
     "exception": false,
     "start_time": "2023-02-13T01:38:31.919757",
     "status": "completed"
    },
    "tags": []
   },
   "source": [
    "---\n",
    "\n",
    "# **GPT Model**"
   ]
  },
  {
   "cell_type": "markdown",
   "id": "173472b9",
   "metadata": {
    "papermill": {
     "duration": 0.010409,
     "end_time": "2023-02-13T01:38:31.949683",
     "exception": false,
     "start_time": "2023-02-13T01:38:31.939274",
     "status": "completed"
    },
    "tags": []
   },
   "source": [
    "## Single Attention Head"
   ]
  },
  {
   "cell_type": "code",
   "execution_count": 6,
   "id": "4f4a3adf",
   "metadata": {
    "execution": {
     "iopub.execute_input": "2023-02-13T01:38:31.976167Z",
     "iopub.status.busy": "2023-02-13T01:38:31.975782Z",
     "iopub.status.idle": "2023-02-13T01:38:31.991392Z",
     "shell.execute_reply": "2023-02-13T01:38:31.989316Z"
    },
    "papermill": {
     "duration": 0.030997,
     "end_time": "2023-02-13T01:38:31.994680",
     "exception": false,
     "start_time": "2023-02-13T01:38:31.963683",
     "status": "completed"
    },
    "tags": []
   },
   "outputs": [],
   "source": [
    "class AttentionHead(nn.Module):\n",
    "    def __init__(self, Config):\n",
    "        super().__init__()\n",
    "\n",
    "        self.block_size = Config.block_size\n",
    "        self.n_embed = Config.n_embed\n",
    "        self.head_size = Config.head_size\n",
    "        \n",
    "        self.key = nn.Linear(self.n_embed, self.head_size, bias=False)\n",
    "        self.query = nn.Linear(self.n_embed, self.head_size, bias=False)\n",
    "        \n",
    "        self.value = nn.Linear(self.n_embed, self.head_size, bias=False)\n",
    "\n",
    "        self.register_buffer(\n",
    "            'tril',\n",
    "            torch.tril(torch.ones(self.block_size,self.block_size))\n",
    "        )\n",
    "        \n",
    "        self.dropout = nn.Dropout(Config.attn_dropout)\n",
    "\n",
    "    def forward(self, x):\n",
    "\n",
    "        B,T,C = x.shape\n",
    "\n",
    "        k = self.key(x)\n",
    "        q = self.query(x)\n",
    "\n",
    "        wei = q@k.transpose(-2,-1) * (C ** 0.5)\n",
    "        wei = wei.masked_fill(self.tril[:T,:T]==0,float('-inf'))\n",
    "        wei = F.softmax(wei, dim=-1)\n",
    "        wei = self.dropout(wei)\n",
    "        \n",
    "        v = self.value(x)\n",
    "        out = wei @ v\n",
    "        \n",
    "        return out"
   ]
  },
  {
   "cell_type": "markdown",
   "id": "e47e5592",
   "metadata": {
    "papermill": {
     "duration": 0.006153,
     "end_time": "2023-02-13T01:38:32.008510",
     "exception": false,
     "start_time": "2023-02-13T01:38:32.002357",
     "status": "completed"
    },
    "tags": []
   },
   "source": [
    "## MultiHead Attention"
   ]
  },
  {
   "cell_type": "code",
   "execution_count": 7,
   "id": "da1d4e2c",
   "metadata": {
    "execution": {
     "iopub.execute_input": "2023-02-13T01:38:32.022502Z",
     "iopub.status.busy": "2023-02-13T01:38:32.022196Z",
     "iopub.status.idle": "2023-02-13T01:38:32.028831Z",
     "shell.execute_reply": "2023-02-13T01:38:32.027899Z"
    },
    "papermill": {
     "duration": 0.015969,
     "end_time": "2023-02-13T01:38:32.030821",
     "exception": false,
     "start_time": "2023-02-13T01:38:32.014852",
     "status": "completed"
    },
    "tags": []
   },
   "outputs": [],
   "source": [
    "class MultiHeadAttention(nn.Module):\n",
    "    def __init__(self, Config):\n",
    "        super().__init__()\n",
    "        self.n_heads = Config.n_heads\n",
    "        self.head_size = Config.head_size\n",
    "        \n",
    "        self.heads = nn.ModuleList([AttentionHead(Config) for _ in range(self.n_heads)])\n",
    "        \n",
    "        self.projection = nn.Linear(Config.n_embed, Config.n_embed)\n",
    "        \n",
    "        self.dropout = nn.Dropout(Config.attn_dropout)\n",
    "    \n",
    "    def forward(self,x):\n",
    "        x = torch.cat([h(x) for h in self.heads],dim=-1)\n",
    "        x = self.projection(x)\n",
    "        x = self.dropout(x)\n",
    "        return x"
   ]
  },
  {
   "cell_type": "markdown",
   "id": "fe4fbcdb",
   "metadata": {
    "papermill": {
     "duration": 0.006092,
     "end_time": "2023-02-13T01:38:32.043188",
     "exception": false,
     "start_time": "2023-02-13T01:38:32.037096",
     "status": "completed"
    },
    "tags": []
   },
   "source": [
    "## Feed Forward Layer"
   ]
  },
  {
   "cell_type": "code",
   "execution_count": 8,
   "id": "7faf110a",
   "metadata": {
    "execution": {
     "iopub.execute_input": "2023-02-13T01:38:32.057041Z",
     "iopub.status.busy": "2023-02-13T01:38:32.056771Z",
     "iopub.status.idle": "2023-02-13T01:38:32.062481Z",
     "shell.execute_reply": "2023-02-13T01:38:32.061495Z"
    },
    "papermill": {
     "duration": 0.01487,
     "end_time": "2023-02-13T01:38:32.064425",
     "exception": false,
     "start_time": "2023-02-13T01:38:32.049555",
     "status": "completed"
    },
    "tags": []
   },
   "outputs": [],
   "source": [
    "class FeedForward(nn.Module):\n",
    "    def __init__(self, Config):\n",
    "        super().__init__()\n",
    "        self.net = nn.Sequential(\n",
    "            nn.Linear(Config.n_embed,Config.n_embed * 4),\n",
    "            nn.ReLU(),\n",
    "            nn.Linear(Config.n_embed * 4, Config.n_embed), # projection\n",
    "            nn.Dropout(Config.block_dropout)\n",
    "        )\n",
    "    def forward(self,x):\n",
    "        return self.net(x)"
   ]
  },
  {
   "cell_type": "markdown",
   "id": "5a7f2114",
   "metadata": {
    "papermill": {
     "duration": 0.006202,
     "end_time": "2023-02-13T01:38:32.076904",
     "exception": false,
     "start_time": "2023-02-13T01:38:32.070702",
     "status": "completed"
    },
    "tags": []
   },
   "source": [
    "# Transformer Block"
   ]
  },
  {
   "cell_type": "code",
   "execution_count": 9,
   "id": "eb4f9397",
   "metadata": {
    "execution": {
     "iopub.execute_input": "2023-02-13T01:38:32.091298Z",
     "iopub.status.busy": "2023-02-13T01:38:32.090373Z",
     "iopub.status.idle": "2023-02-13T01:38:32.096684Z",
     "shell.execute_reply": "2023-02-13T01:38:32.095863Z"
    },
    "papermill": {
     "duration": 0.015397,
     "end_time": "2023-02-13T01:38:32.098592",
     "exception": false,
     "start_time": "2023-02-13T01:38:32.083195",
     "status": "completed"
    },
    "tags": []
   },
   "outputs": [],
   "source": [
    "class TransformerBlock(nn.Module):\n",
    "    def __init__(self, Config):\n",
    "        super().__init__()\n",
    "        self.attn = MultiHeadAttention(Config)\n",
    "        self.ff = FeedForward(Config)\n",
    "        self.ln1 = nn.LayerNorm(Config.n_embed)\n",
    "        self.ln2 = nn.LayerNorm(Config.n_embed)\n",
    "\n",
    "    def forward(self,x):\n",
    "        x = x + self.attn(self.ln1(x))\n",
    "        x = x + self.ff(self.ln2(x))\n",
    "        \n",
    "        return x"
   ]
  },
  {
   "cell_type": "markdown",
   "id": "84cdae0c",
   "metadata": {
    "papermill": {
     "duration": 0.006187,
     "end_time": "2023-02-13T01:38:32.111516",
     "exception": false,
     "start_time": "2023-02-13T01:38:32.105329",
     "status": "completed"
    },
    "tags": []
   },
   "source": [
    "## GPT Model"
   ]
  },
  {
   "cell_type": "code",
   "execution_count": 10,
   "id": "554b6d26",
   "metadata": {
    "execution": {
     "iopub.execute_input": "2023-02-13T01:38:32.126712Z",
     "iopub.status.busy": "2023-02-13T01:38:32.125251Z",
     "iopub.status.idle": "2023-02-13T01:38:32.135102Z",
     "shell.execute_reply": "2023-02-13T01:38:32.134261Z"
    },
    "papermill": {
     "duration": 0.019262,
     "end_time": "2023-02-13T01:38:32.137084",
     "exception": false,
     "start_time": "2023-02-13T01:38:32.117822",
     "status": "completed"
    },
    "tags": []
   },
   "outputs": [],
   "source": [
    "class ShakespeareGPT(nn.Module):\n",
    "    def __init__(self,Config):\n",
    "        super().__init__()\n",
    "        \n",
    "        self.n_embed = Config.n_embed\n",
    "        self.block_size = Config.block_size\n",
    "        \n",
    "        self.token_embedding_table = nn.Embedding(Config.vocab_size,self.n_embed)\n",
    "        self.pos_embedding_table = nn.Embedding(self.block_size, self.n_embed)\n",
    "        \n",
    "        self.blocks = nn.Sequential(\n",
    "            *[TransformerBlock(Config)]*Config.n_layers,\n",
    "            nn.LayerNorm(self.n_embed)\n",
    "        )\n",
    "\n",
    "        self.lm_head = nn.Linear(self.n_embed,Config.vocab_size)\n",
    "        \n",
    "    def forward(self,idx):\n",
    "        \n",
    "        B,T = idx.shape\n",
    "        \n",
    "        token_embs = self.token_embedding_table(idx)\n",
    "        pos_embs = self.pos_embedding_table(torch.arange(T,device=Config.device))\n",
    "        \n",
    "        \n",
    "        x = token_embs + pos_embs\n",
    "        x = self.blocks(x)\n",
    "        logits = self.lm_head(x)\n",
    "        \n",
    "        return logits\n",
    "\n",
    "        \n",
    "    def generate(self,idx,total):\n",
    "        for _ in range(total):\n",
    "            idx_cond = idx[:, -self.block_size:]\n",
    "            logits= self(idx_cond)\n",
    "            logits = logits[:, -1, :]\n",
    "            probs = F.softmax(logits, dim=-1)\n",
    "            idx_next = torch.multinomial(probs, num_samples=1)\n",
    "            idx = torch.cat((idx, idx_next), dim=1)\n",
    "        return idx\n",
    "            "
   ]
  },
  {
   "cell_type": "markdown",
   "id": "f6109482",
   "metadata": {
    "papermill": {
     "duration": 0.006111,
     "end_time": "2023-02-13T01:38:32.149496",
     "exception": false,
     "start_time": "2023-02-13T01:38:32.143385",
     "status": "completed"
    },
    "tags": []
   },
   "source": [
    "# Training"
   ]
  },
  {
   "cell_type": "code",
   "execution_count": 11,
   "id": "c20826a5",
   "metadata": {
    "execution": {
     "iopub.execute_input": "2023-02-13T01:38:32.163432Z",
     "iopub.status.busy": "2023-02-13T01:38:32.163168Z",
     "iopub.status.idle": "2023-02-13T01:38:32.447592Z",
     "shell.execute_reply": "2023-02-13T01:38:32.446588Z"
    },
    "papermill": {
     "duration": 0.294133,
     "end_time": "2023-02-13T01:38:32.449994",
     "exception": false,
     "start_time": "2023-02-13T01:38:32.155861",
     "status": "completed"
    },
    "tags": []
   },
   "outputs": [],
   "source": [
    "train_ds = ShakespeareDataset(Config)\n",
    "val_ds = ShakespeareDataset(Config,is_test=True)"
   ]
  },
  {
   "cell_type": "code",
   "execution_count": 12,
   "id": "95610f72",
   "metadata": {
    "execution": {
     "iopub.execute_input": "2023-02-13T01:38:32.465802Z",
     "iopub.status.busy": "2023-02-13T01:38:32.464320Z",
     "iopub.status.idle": "2023-02-13T01:38:35.194926Z",
     "shell.execute_reply": "2023-02-13T01:38:35.193914Z"
    },
    "papermill": {
     "duration": 2.740921,
     "end_time": "2023-02-13T01:38:35.197597",
     "exception": false,
     "start_time": "2023-02-13T01:38:32.456676",
     "status": "completed"
    },
    "tags": []
   },
   "outputs": [],
   "source": [
    "lm = ShakespeareGPT(Config)\n",
    "lm = lm.to(device=Config.device)"
   ]
  },
  {
   "cell_type": "code",
   "execution_count": 13,
   "id": "ca759645",
   "metadata": {
    "execution": {
     "iopub.execute_input": "2023-02-13T01:38:35.213426Z",
     "iopub.status.busy": "2023-02-13T01:38:35.212611Z",
     "iopub.status.idle": "2023-02-13T01:38:35.218312Z",
     "shell.execute_reply": "2023-02-13T01:38:35.217476Z"
    },
    "papermill": {
     "duration": 0.015961,
     "end_time": "2023-02-13T01:38:35.220303",
     "exception": false,
     "start_time": "2023-02-13T01:38:35.204342",
     "status": "completed"
    },
    "tags": []
   },
   "outputs": [],
   "source": [
    "optim = torch.optim.AdamW(lm.parameters(), lr=Config.lr)"
   ]
  },
  {
   "cell_type": "code",
   "execution_count": 14,
   "id": "688cadf2",
   "metadata": {
    "execution": {
     "iopub.execute_input": "2023-02-13T01:38:35.234385Z",
     "iopub.status.busy": "2023-02-13T01:38:35.234112Z",
     "iopub.status.idle": "2023-02-13T01:38:35.238743Z",
     "shell.execute_reply": "2023-02-13T01:38:35.237869Z"
    },
    "papermill": {
     "duration": 0.013966,
     "end_time": "2023-02-13T01:38:35.240788",
     "exception": false,
     "start_time": "2023-02-13T01:38:35.226822",
     "status": "completed"
    },
    "tags": []
   },
   "outputs": [],
   "source": [
    "def loss_fn(logits, targets):\n",
    "    B,T,C = logits.shape\n",
    "    logits = logits.view(B*T, C)\n",
    "    targets = targets.view(B*T)\n",
    "    loss = F.cross_entropy(logits,targets)\n",
    "    return loss"
   ]
  },
  {
   "cell_type": "code",
   "execution_count": 15,
   "id": "796e7cf7",
   "metadata": {
    "execution": {
     "iopub.execute_input": "2023-02-13T01:38:35.254568Z",
     "iopub.status.busy": "2023-02-13T01:38:35.254312Z",
     "iopub.status.idle": "2023-02-13T01:38:35.264801Z",
     "shell.execute_reply": "2023-02-13T01:38:35.263979Z"
    },
    "papermill": {
     "duration": 0.019624,
     "end_time": "2023-02-13T01:38:35.266622",
     "exception": false,
     "start_time": "2023-02-13T01:38:35.246998",
     "status": "completed"
    },
    "tags": []
   },
   "outputs": [],
   "source": [
    "def train_N_iters():\n",
    "    lm.train()\n",
    "    train_step_losses = []\n",
    "    for batch in tqdm(range(Config.train_iters)):\n",
    "        optim.zero_grad()\n",
    "        inputs, targets = train_ds.get()\n",
    "        inputs, targets = inputs.to(device=Config.device), targets.to(device=Config.device)\n",
    "        logits = lm(inputs)\n",
    "        loss = loss_fn(logits,targets)\n",
    "        loss.backward()\n",
    "        optim.step()\n",
    "        train_step_losses.append(loss.item())\n",
    "        \n",
    "        if batch%(Config.train_iters//10)==0 or batch==Config.train_iters-1:\n",
    "            print(f\"batch {batch} train step loss: {loss.item()}\")\n",
    "        \n",
    "        del inputs, targets, loss, logits\n",
    "        \n",
    "    return train_step_losses\n",
    "    \n",
    "@torch.no_grad()\n",
    "def valid_N_iters():\n",
    "    lm.eval()\n",
    "    val_step_losses = []\n",
    "    for batch in tqdm(range(Config.val_iters)):\n",
    "        inputs, targets = val_ds.get()\n",
    "        inputs, targets = inputs.to(device=Config.device), targets.to(device=Config.device)\n",
    "        logits = lm(inputs)\n",
    "        loss = loss_fn(logits,targets)\n",
    "        val_step_losses.append(loss.item())\n",
    "        \n",
    "        if batch%(Config.val_iters//10)==0 or batch==Config.val_iters-1:\n",
    "            print(f\"batch {batch} valid step loss: {loss.item()}\")\n",
    "        \n",
    "        del inputs, targets, loss, logits\n",
    "    \n",
    "    return val_step_losses"
   ]
  },
  {
   "cell_type": "code",
   "execution_count": 16,
   "id": "84d122b3",
   "metadata": {
    "execution": {
     "iopub.execute_input": "2023-02-13T01:38:35.281832Z",
     "iopub.status.busy": "2023-02-13T01:38:35.280329Z",
     "iopub.status.idle": "2023-02-13T01:38:35.285762Z",
     "shell.execute_reply": "2023-02-13T01:38:35.284917Z"
    },
    "papermill": {
     "duration": 0.014638,
     "end_time": "2023-02-13T01:38:35.287679",
     "exception": false,
     "start_time": "2023-02-13T01:38:35.273041",
     "status": "completed"
    },
    "tags": []
   },
   "outputs": [],
   "source": [
    "def save_lm():\n",
    "    state_dict = lm.state_dict()\n",
    "    save_path = Path('./').resolve() / 'shakespeareGPT'\n",
    "    save_path.mkdir(exist_ok=True)\n",
    "    model_path = save_path / f'shakespeareGPT.pth'\n",
    "    torch.save(state_dict, model_path)"
   ]
  },
  {
   "cell_type": "code",
   "execution_count": 17,
   "id": "d635ca11",
   "metadata": {
    "execution": {
     "iopub.execute_input": "2023-02-13T01:38:35.302123Z",
     "iopub.status.busy": "2023-02-13T01:38:35.301346Z",
     "iopub.status.idle": "2023-02-13T01:38:35.306294Z",
     "shell.execute_reply": "2023-02-13T01:38:35.305403Z"
    },
    "papermill": {
     "duration": 0.01408,
     "end_time": "2023-02-13T01:38:35.308257",
     "exception": false,
     "start_time": "2023-02-13T01:38:35.294177",
     "status": "completed"
    },
    "tags": []
   },
   "outputs": [],
   "source": [
    "def train_lm():\n",
    "    train_losses = train_N_iters()\n",
    "    valid_losses = valid_N_iters()\n",
    "    save_lm()\n",
    "    return train_losses, valid_losses"
   ]
  },
  {
   "cell_type": "code",
   "execution_count": 18,
   "id": "5d0844a0",
   "metadata": {
    "execution": {
     "iopub.execute_input": "2023-02-13T01:38:35.322492Z",
     "iopub.status.busy": "2023-02-13T01:38:35.321658Z",
     "iopub.status.idle": "2023-02-13T01:47:05.944192Z",
     "shell.execute_reply": "2023-02-13T01:47:05.943112Z"
    },
    "papermill": {
     "duration": 510.631665,
     "end_time": "2023-02-13T01:47:05.946266",
     "exception": false,
     "start_time": "2023-02-13T01:38:35.314601",
     "status": "completed"
    },
    "tags": []
   },
   "outputs": [
    {
     "data": {
      "application/vnd.jupyter.widget-view+json": {
       "model_id": "ad66758e50634016912e3a0e09db0efa",
       "version_major": 2,
       "version_minor": 0
      },
      "text/plain": [
       "  0%|          | 0/10000 [00:00<?, ?it/s]"
      ]
     },
     "metadata": {},
     "output_type": "display_data"
    },
    {
     "name": "stdout",
     "output_type": "stream",
     "text": [
      "batch 0 train step loss: 4.303605556488037\n",
      "batch 1000 train step loss: 2.454551935195923\n",
      "batch 2000 train step loss: 2.437880277633667\n",
      "batch 3000 train step loss: 2.315814256668091\n",
      "batch 4000 train step loss: 2.0116066932678223\n",
      "batch 5000 train step loss: 1.8777037858963013\n",
      "batch 6000 train step loss: 1.8346610069274902\n",
      "batch 7000 train step loss: 1.7588508129119873\n",
      "batch 8000 train step loss: 1.7117947340011597\n",
      "batch 9000 train step loss: 1.7134160995483398\n",
      "batch 9999 train step loss: 1.6846973896026611\n"
     ]
    },
    {
     "data": {
      "application/vnd.jupyter.widget-view+json": {
       "model_id": "34bd37e964144ef8bad6429b394cad9c",
       "version_major": 2,
       "version_minor": 0
      },
      "text/plain": [
       "  0%|          | 0/1000 [00:00<?, ?it/s]"
      ]
     },
     "metadata": {},
     "output_type": "display_data"
    },
    {
     "name": "stdout",
     "output_type": "stream",
     "text": [
      "batch 0 valid step loss: 1.7925341129302979\n",
      "batch 100 valid step loss: 1.7870755195617676\n",
      "batch 200 valid step loss: 1.8259053230285645\n",
      "batch 300 valid step loss: 1.7898788452148438\n",
      "batch 400 valid step loss: 1.7743006944656372\n",
      "batch 500 valid step loss: 1.7524681091308594\n",
      "batch 600 valid step loss: 1.8146271705627441\n",
      "batch 700 valid step loss: 1.8328163623809814\n",
      "batch 800 valid step loss: 1.769633412361145\n",
      "batch 900 valid step loss: 1.7880773544311523\n",
      "batch 999 valid step loss: 1.7822539806365967\n"
     ]
    }
   ],
   "source": [
    "tl,vl=train_lm()"
   ]
  },
  {
   "cell_type": "markdown",
   "id": "1a0be297",
   "metadata": {
    "papermill": {
     "duration": 0.00752,
     "end_time": "2023-02-13T01:47:05.961872",
     "exception": false,
     "start_time": "2023-02-13T01:47:05.954352",
     "status": "completed"
    },
    "tags": []
   },
   "source": [
    "# Loss Plots"
   ]
  },
  {
   "cell_type": "code",
   "execution_count": 19,
   "id": "a7b79bd0",
   "metadata": {
    "execution": {
     "iopub.execute_input": "2023-02-13T01:47:05.978528Z",
     "iopub.status.busy": "2023-02-13T01:47:05.978231Z",
     "iopub.status.idle": "2023-02-13T01:47:06.211983Z",
     "shell.execute_reply": "2023-02-13T01:47:06.211002Z"
    },
    "papermill": {
     "duration": 0.244489,
     "end_time": "2023-02-13T01:47:06.214126",
     "exception": false,
     "start_time": "2023-02-13T01:47:05.969637",
     "status": "completed"
    },
    "tags": []
   },
   "outputs": [
    {
     "data": {
      "image/png": "[encoded data removed]",
      "text/plain": [
       "<Figure size 432x288 with 1 Axes>"
      ]
     },
     "metadata": {
      "needs_background": "light"
     },
     "output_type": "display_data"
    }
   ],
   "source": [
    "plt.plot(tl,label='train loss',color='orange')\n",
    "plt.plot(vl,label='valid loss',color='blue')\n",
    "plt.title('Shakespeare GPT Losses')\n",
    "plt.legend()\n",
    "plt.show()"
   ]
  },
  {
   "cell_type": "markdown",
   "id": "2055dadb",
   "metadata": {
    "papermill": {
     "duration": 0.007849,
     "end_time": "2023-02-13T01:47:06.230383",
     "exception": false,
     "start_time": "2023-02-13T01:47:06.222534",
     "status": "completed"
    },
    "tags": []
   },
   "source": [
    "# Generating"
   ]
  },
  {
   "cell_type": "code",
   "execution_count": 20,
   "id": "7c875717",
   "metadata": {
    "execution": {
     "iopub.execute_input": "2023-02-13T01:47:06.247926Z",
     "iopub.status.busy": "2023-02-13T01:47:06.247101Z",
     "iopub.status.idle": "2023-02-13T01:47:17.229191Z",
     "shell.execute_reply": "2023-02-13T01:47:17.227767Z"
    },
    "papermill": {
     "duration": 10.992982,
     "end_time": "2023-02-13T01:47:17.231271",
     "exception": false,
     "start_time": "2023-02-13T01:47:06.238289",
     "status": "completed"
    },
    "tags": []
   },
   "outputs": [
    {
     "name": "stdout",
     "output_type": "stream",
     "text": [
      "generated (100 tokens)\n",
      "==================================================\n",
      "\n",
      "HERS OF YORK:\n",
      "Iffer these peak than all for the be me;\n",
      "That thou, follived of frome, my does,\n",
      "I day;\n",
      "==================================================\n",
      "\n",
      "\n",
      "generated (300 tokens)\n",
      "==================================================\n",
      "\n",
      "LADY ANTIO:\n",
      "Now may hight. The is graclike a heavent;\n",
      "Ye'lr, or borse to your vales stend\n",
      "Hence meen shallessile to see ton them oth to:\n",
      "Goods!\n",
      "State, what shure gue and nay ild But or this it,\n",
      "Which cafter, more enhere making werefy loved bein;\n",
      "And in by the peop, by any home whyserving fried as Du\n",
      "==================================================\n",
      "\n",
      "\n",
      "generated (500 tokens)\n",
      "==================================================\n",
      "\n",
      "Havilse, my statings unto a havisbale of him it my seechies:\n",
      "Lords come, the must that calls body Greputing me;\n",
      "Twit son and dayped\n",
      "I cloody, but and not is\n",
      "And he dime my fire of us good brimsence to-phe dust.\n",
      "\n",
      "VOLEONTES:\n",
      "O, he here, out of; Camine thee!\n",
      "Become, I'll place, if that the kindly;\n",
      "The morrown hold you time fathere pass and forwords for in duke\n",
      "And I hadly me;--\n",
      "Whose well. I shall no lord shangelown my breation.\n",
      "\n",
      "Lood\n",
      "Say, that?\n",
      "\n",
      "DUKE VINCENTIO:\n",
      "Yet should kind prost, you speak\n",
      "To \n",
      "==================================================\n",
      "\n",
      "\n",
      "generated (700 tokens)\n",
      "==================================================\n",
      "\n",
      "Warward from ant, the gland'd, Cland. What stand\n",
      "Hy good it which dest, in aface,\n",
      "Cut it in He he have say crown.\n",
      "So time say, the the of shall'd the is,\n",
      "To must our thince take morrow,\n",
      "Whost none that pare of donessent sons,\n",
      "To sweet senaives an Edward with and blain.\n",
      "No we sir, but my painter:\n",
      "Go have in\n",
      "Theress hingstirges speak you sweed on in be nothe look your elf!\n",
      "Those sir, and cansweet day.\n",
      "When how condesputy, place, with day of wodds! I than me,\n",
      "Mineds neven hou his fore hight is to trumerchedgen's will\n",
      "From fair.\n",
      "\n",
      "JULIET:\n",
      "And we implead, love des, theaven per;\n",
      "He bear\n",
      "Eared that which ful the condeasion and to kinder bate?\n",
      "\n",
      "GLOUCESTER:\n",
      "Now a iz?\n",
      "\n",
      "PARITLBOLINA:\n",
      "Have York, by orth,\n",
      "==================================================\n",
      "\n",
      "\n",
      "generated (1000 tokens)\n",
      "==================================================\n",
      "\n",
      "Could as her hers I have him-kill obed of and harm\n",
      "Shell bear, such seemforatroud doyarriend about their;\n",
      "But the lund one table that dide my some way;\n",
      "And trun screnate that a had heachet!\n",
      "\n",
      "VIRCINIUS:\n",
      "That is your his be so day, what I lord; forrongue.\n",
      "Jurder mame duke this the pars!\n",
      "\n",
      "MENENIUS:\n",
      "Hap as out I to jury that'st me you?\n",
      "\n",
      "VOLIO:\n",
      "Vick,\n",
      "So that the comfor, see in man as brother ward, and:\n",
      "That is most serve to last our let not, and spoar\n",
      "A fll that Dukess'd the his me a welcound me\n",
      "Lihat mayin shave; the marish meel'd.\n",
      "Let your him distir, when you your be yound keech not\n",
      "Master.\n",
      "\n",
      "GLUMNIA:\n",
      "Which stoo, my let quest for to by it of for they old, whomies are!\n",
      "A brouch that conderal sace in;\n",
      "That have king oath, true; the have bond,\n",
      "And who scrught them to bedted thou trew and with my priseroof Rid, and rewant,\n",
      "But gon As and of Pome,\n",
      "The chars, and oft thing as appresse minitiar may bols? King as lords own.\n",
      "\n",
      "LADY GALET:\n",
      "For thid?\n",
      "I good ships wever of he vigul with the desphicher\n",
      "==================================================\n",
      "\n",
      "\n"
     ]
    }
   ],
   "source": [
    "generated_texts = []\n",
    "for length in [100,300,500,700,1000]:\n",
    "    generated = lm.generate(\n",
    "    torch.zeros((1,1),dtype=torch.long,device=Config.device), # initial context 0\n",
    "    total=length\n",
    ")\n",
    "    generated = tokenizer.decode(generated[0])\n",
    "    text=f'generated ({length} tokens)\\n{\"=\"*50}\\n{generated}\\n{\"=\"*50}\\n\\n'\n",
    "    generated_texts.append(text)\n",
    "    print(text)"
   ]
  },
  {
   "cell_type": "code",
   "execution_count": 21,
   "id": "52beb58c",
   "metadata": {
    "execution": {
     "iopub.execute_input": "2023-02-13T01:47:17.251205Z",
     "iopub.status.busy": "2023-02-13T01:47:17.249764Z",
     "iopub.status.idle": "2023-02-13T01:47:17.255447Z",
     "shell.execute_reply": "2023-02-13T01:47:17.254599Z"
    },
    "papermill": {
     "duration": 0.017286,
     "end_time": "2023-02-13T01:47:17.257706",
     "exception": false,
     "start_time": "2023-02-13T01:47:17.240420",
     "status": "completed"
    },
    "tags": []
   },
   "outputs": [],
   "source": [
    "with open('generated.txt','w') as f:\n",
    "    for text in generated_texts:\n",
    "        f.write(text)"
   ]
  },
  {
   "cell_type": "markdown",
   "id": "a0b02019",
   "metadata": {
    "papermill": {
     "duration": 0.00793,
     "end_time": "2023-02-13T01:47:17.273822",
     "exception": false,
     "start_time": "2023-02-13T01:47:17.265892",
     "status": "completed"
    },
    "tags": []
   },
   "source": [
    "---\n",
    "\n",
    "Full code: [shakespeareGPT](https://github.com/shreydan/shakespeareGPT)\n",
    "\n",
    "Follow [@shreydan](https://kaggle.com/shreydan) for more :)"
   ]
  }
 ],
 "metadata": {
  "kernelspec": {
   "display_name": "Python 3",
   "language": "python",
   "name": "python3"
  },
  "language_info": {
   "codemirror_mode": {
    "name": "ipython",
    "version": 3
   },
   "file_extension": ".py",
   "mimetype": "text/x-python",
   "name": "python",
   "nbconvert_exporter": "python",
   "pygments_lexer": "ipython3",
   "version": "3.7.12"
  },
  "papermill": {
   "default_parameters": {},
   "duration": 535.715335,
   "end_time": "2023-02-13T01:47:18.304464",
   "environment_variables": {},
   "exception": null,
   "input_path": "__notebook__.ipynb",
   "output_path": "__notebook__.ipynb",
   "parameters": {},
   "start_time": "2023-02-13T01:38:22.589129",
   "version": "2.3.4"
  },
  "widgets": {
   "application/vnd.jupyter.widget-state+json": {
    "state": {
     "004ad0cec0bc46d5907f5ccd9722f0ea": {
      "model_module": "@jupyter-widgets/controls",
      "model_module_version": "1.5.0",
      "model_name": "HTMLModel",
      "state": {
       "_dom_classes": [],
       "_model_module": "@jupyter-widgets/controls",
       "_model_module_version": "1.5.0",
       "_model_name": "HTMLModel",
       "_view_count": null,
       "_view_module": "@jupyter-widgets/controls",
       "_view_module_version": "1.5.0",
       "_view_name": "HTMLView",
       "description": "",
       "description_tooltip": null,
       "layout": "IPY_MODEL_8622c1c200f34d6bb4b987a76d92bd4f",
       "placeholder": "​",
       "style": "IPY_MODEL_4c9d5adacd8148fea6ea88995d596d0e",
       "value": "100%"
      }
     },
     "050ddef8ce7b4e51aa628160253599ca": {
      "model_module": "@jupyter-widgets/controls",
      "model_module_version": "1.5.0",
      "model_name": "HTMLModel",
      "state": {
       "_dom_classes": [],
       "_model_module": "@jupyter-widgets/controls",
       "_model_module_version": "1.5.0",
       "_model_name": "HTMLModel",
       "_view_count": null,
       "_view_module": "@jupyter-widgets/controls",
       "_view_module_version": "1.5.0",
       "_view_name": "HTMLView",
       "description": "",
       "description_tooltip": null,
       "layout": "IPY_MODEL_23a1b820f6154bffb6803acc9e75c3a3",
       "placeholder": "​",
       "style": "IPY_MODEL_e78bde1733de458f9413912c6d13afae",
       "value": " 1000/1000 [00:14&lt;00:00, 67.58it/s]"
      }
     },
     "1e9aaf10f1694bb280bd79d9f3db165d": {
      "model_module": "@jupyter-widgets/controls",
      "model_module_version": "1.5.0",
      "model_name": "ProgressStyleModel",
      "state": {
       "_model_module": "@jupyter-widgets/controls",
       "_model_module_version": "1.5.0",
       "_model_name": "ProgressStyleModel",
       "_view_count": null,
       "_view_module": "@jupyter-widgets/base",
       "_view_module_version": "1.2.0",
       "_view_name": "StyleView",
       "bar_color": null,
       "description_width": ""
      }
     },
     "23a1b820f6154bffb6803acc9e75c3a3": {
      "model_module": "@jupyter-widgets/base",
      "model_module_version": "1.2.0",
      "model_name": "LayoutModel",
      "state": {
       "_model_module": "@jupyter-widgets/base",
       "_model_module_version": "1.2.0",
       "_model_name": "LayoutModel",
       "_view_count": null,
       "_view_module": "@jupyter-widgets/base",
       "_view_module_version": "1.2.0",
       "_view_name": "LayoutView",
       "align_content": null,
       "align_items": null,
       "align_self": null,
       "border": null,
       "bottom": null,
       "display": null,
       "flex": null,
       "flex_flow": null,
       "grid_area": null,
       "grid_auto_columns": null,
       "grid_auto_flow": null,
       "grid_auto_rows": null,
       "grid_column": null,
       "grid_gap": null,
       "grid_row": null,
       "grid_template_areas": null,
       "grid_template_columns": null,
       "grid_template_rows": null,
       "height": null,
       "justify_content": null,
       "justify_items": null,
       "left": null,
       "margin": null,
       "max_height": null,
       "max_width": null,
       "min_height": null,
       "min_width": null,
       "object_fit": null,
       "object_position": null,
       "order": null,
       "overflow": null,
       "overflow_x": null,
       "overflow_y": null,
       "padding": null,
       "right": null,
       "top": null,
       "visibility": null,
       "width": null
      }
     },
     "3165a9bb0e3244628205cdbf583f6bd5": {
      "model_module": "@jupyter-widgets/base",
      "model_module_version": "1.2.0",
      "model_name": "LayoutModel",
      "state": {
       "_model_module": "@jupyter-widgets/base",
       "_model_module_version": "1.2.0",
       "_model_name": "LayoutModel",
       "_view_count": null,
       "_view_module": "@jupyter-widgets/base",
       "_view_module_version": "1.2.0",
       "_view_name": "LayoutView",
       "align_content": null,
       "align_items": null,
       "align_self": null,
       "border": null,
       "bottom": null,
       "display": null,
       "flex": null,
       "flex_flow": null,
       "grid_area": null,
       "grid_auto_columns": null,
       "grid_auto_flow": null,
       "grid_auto_rows": null,
       "grid_column": null,
       "grid_gap": null,
       "grid_row": null,
       "grid_template_areas": null,
       "grid_template_columns": null,
       "grid_template_rows": null,
       "height": null,
       "justify_content": null,
       "justify_items": null,
       "left": null,
       "margin": null,
       "max_height": null,
       "max_width": null,
       "min_height": null,
       "min_width": null,
       "object_fit": null,
       "object_position": null,
       "order": null,
       "overflow": null,
       "overflow_x": null,
       "overflow_y": null,
       "padding": null,
       "right": null,
       "top": null,
       "visibility": null,
       "width": null
      }
     },
     "34bd37e964144ef8bad6429b394cad9c": {
      "model_module": "@jupyter-widgets/controls",
      "model_module_version": "1.5.0",
      "model_name": "HBoxModel",
      "state": {
       "_dom_classes": [],
       "_model_module": "@jupyter-widgets/controls",
       "_model_module_version": "1.5.0",
       "_model_name": "HBoxModel",
       "_view_count": null,
       "_view_module": "@jupyter-widgets/controls",
       "_view_module_version": "1.5.0",
       "_view_name": "HBoxView",
       "box_style": "",
       "children": [
        "IPY_MODEL_004ad0cec0bc46d5907f5ccd9722f0ea",
        "IPY_MODEL_4b98714b562f4445b2c8d9f340a0add6",
        "IPY_MODEL_050ddef8ce7b4e51aa628160253599ca"
       ],
       "layout": "IPY_MODEL_61d27ad6638644da86baf5103fcadd65"
      }
     },
     "369c2689ba1f486782a85247370be043": {
      "model_module": "@jupyter-widgets/controls",
      "model_module_version": "1.5.0",
      "model_name": "ProgressStyleModel",
      "state": {
       "_model_module": "@jupyter-widgets/controls",
       "_model_module_version": "1.5.0",
       "_model_name": "ProgressStyleModel",
       "_view_count": null,
       "_view_module": "@jupyter-widgets/base",
       "_view_module_version": "1.2.0",
       "_view_name": "StyleView",
       "bar_color": null,
       "description_width": ""
      }
     },
     "4b98714b562f4445b2c8d9f340a0add6": {
      "model_module": "@jupyter-widgets/controls",
      "model_module_version": "1.5.0",
      "model_name": "FloatProgressModel",
      "state": {
       "_dom_classes": [],
       "_model_module": "@jupyter-widgets/controls",
       "_model_module_version": "1.5.0",
       "_model_name": "FloatProgressModel",
       "_view_count": null,
       "_view_module": "@jupyter-widgets/controls",
       "_view_module_version": "1.5.0",
       "_view_name": "ProgressView",
       "bar_style": "success",
       "description": "",
       "description_tooltip": null,
       "layout": "IPY_MODEL_7c8e349861074c38b066c0ee0d92ef1d",
       "max": 1000.0,
       "min": 0.0,
       "orientation": "horizontal",
       "style": "IPY_MODEL_369c2689ba1f486782a85247370be043",
       "value": 1000.0
      }
     },
     "4c9d5adacd8148fea6ea88995d596d0e": {
      "model_module": "@jupyter-widgets/controls",
      "model_module_version": "1.5.0",
      "model_name": "DescriptionStyleModel",
      "state": {
       "_model_module": "@jupyter-widgets/controls",
       "_model_module_version": "1.5.0",
       "_model_name": "DescriptionStyleModel",
       "_view_count": null,
       "_view_module": "@jupyter-widgets/base",
       "_view_module_version": "1.2.0",
       "_view_name": "StyleView",
       "description_width": ""
      }
     },
     "61d27ad6638644da86baf5103fcadd65": {
      "model_module": "@jupyter-widgets/base",
      "model_module_version": "1.2.0",
      "model_name": "LayoutModel",
      "state": {
       "_model_module": "@jupyter-widgets/base",
       "_model_module_version": "1.2.0",
       "_model_name": "LayoutModel",
       "_view_count": null,
       "_view_module": "@jupyter-widgets/base",
       "_view_module_version": "1.2.0",
       "_view_name": "LayoutView",
       "align_content": null,
       "align_items": null,
       "align_self": null,
       "border": null,
       "bottom": null,
       "display": null,
       "flex": null,
       "flex_flow": null,
       "grid_area": null,
       "grid_auto_columns": null,
       "grid_auto_flow": null,
       "grid_auto_rows": null,
       "grid_column": null,
       "grid_gap": null,
       "grid_row": null,
       "grid_template_areas": null,
       "grid_template_columns": null,
       "grid_template_rows": null,
       "height": null,
       "justify_content": null,
       "justify_items": null,
       "left": null,
       "margin": null,
       "max_height": null,
       "max_width": null,
       "min_height": null,
       "min_width": null,
       "object_fit": null,
       "object_position": null,
       "order": null,
       "overflow": null,
       "overflow_x": null,
       "overflow_y": null,
       "padding": null,
       "right": null,
       "top": null,
       "visibility": null,
       "width": null
      }
     },
     "63836e0988bd4a3d9e8ac467312ebddf": {
      "model_module": "@jupyter-widgets/controls",
      "model_module_version": "1.5.0",
      "model_name": "FloatProgressModel",
      "state": {
       "_dom_classes": [],
       "_model_module": "@jupyter-widgets/controls",
       "_model_module_version": "1.5.0",
       "_model_name": "FloatProgressModel",
       "_view_count": null,
       "_view_module": "@jupyter-widgets/controls",
       "_view_module_version": "1.5.0",
       "_view_name": "ProgressView",
       "bar_style": "success",
       "description": "",
       "description_tooltip": null,
       "layout": "IPY_MODEL_9fa8de0974c94e5d8044240644e85a0e",
       "max": 10000.0,
       "min": 0.0,
       "orientation": "horizontal",
       "style": "IPY_MODEL_1e9aaf10f1694bb280bd79d9f3db165d",
       "value": 10000.0
      }
     },
     "7c8e349861074c38b066c0ee0d92ef1d": {
      "model_module": "@jupyter-widgets/base",
      "model_module_version": "1.2.0",
      "model_name": "LayoutModel",
      "state": {
       "_model_module": "@jupyter-widgets/base",
       "_model_module_version": "1.2.0",
       "_model_name": "LayoutModel",
       "_view_count": null,
       "_view_module": "@jupyter-widgets/base",
       "_view_module_version": "1.2.0",
       "_view_name": "LayoutView",
       "align_content": null,
       "align_items": null,
       "align_self": null,
       "border": null,
       "bottom": null,
       "display": null,
       "flex": null,
       "flex_flow": null,
       "grid_area": null,
       "grid_auto_columns": null,
       "grid_auto_flow": null,
       "grid_auto_rows": null,
       "grid_column": null,
       "grid_gap": null,
       "grid_row": null,
       "grid_template_areas": null,
       "grid_template_columns": null,
       "grid_template_rows": null,
       "height": null,
       "justify_content": null,
       "justify_items": null,
       "left": null,
       "margin": null,
       "max_height": null,
       "max_width": null,
       "min_height": null,
       "min_width": null,
       "object_fit": null,
       "object_position": null,
       "order": null,
       "overflow": null,
       "overflow_x": null,
       "overflow_y": null,
       "padding": null,
       "right": null,
       "top": null,
       "visibility": null,
       "width": null
      }
     },
     "83b282ee4ca447edbaf56784ad171d58": {
      "model_module": "@jupyter-widgets/base",
      "model_module_version": "1.2.0",
      "model_name": "LayoutModel",
      "state": {
       "_model_module": "@jupyter-widgets/base",
       "_model_module_version": "1.2.0",
       "_model_name": "LayoutModel",
       "_view_count": null,
       "_view_module": "@jupyter-widgets/base",
       "_view_module_version": "1.2.0",
       "_view_name": "LayoutView",
       "align_content": null,
       "align_items": null,
       "align_self": null,
       "border": null,
       "bottom": null,
       "display": null,
       "flex": null,
       "flex_flow": null,
       "grid_area": null,
       "grid_auto_columns": null,
       "grid_auto_flow": null,
       "grid_auto_rows": null,
       "grid_column": null,
       "grid_gap": null,
       "grid_row": null,
       "grid_template_areas": null,
       "grid_template_columns": null,
       "grid_template_rows": null,
       "height": null,
       "justify_content": null,
       "justify_items": null,
       "left": null,
       "margin": null,
       "max_height": null,
       "max_width": null,
       "min_height": null,
       "min_width": null,
       "object_fit": null,
       "object_position": null,
       "order": null,
       "overflow": null,
       "overflow_x": null,
       "overflow_y": null,
       "padding": null,
       "right": null,
       "top": null,
       "visibility": null,
       "width": null
      }
     },
     "8622c1c200f34d6bb4b987a76d92bd4f": {
      "model_module": "@jupyter-widgets/base",
      "model_module_version": "1.2.0",
      "model_name": "LayoutModel",
      "state": {
       "_model_module": "@jupyter-widgets/base",
       "_model_module_version": "1.2.0",
       "_model_name": "LayoutModel",
       "_view_count": null,
       "_view_module": "@jupyter-widgets/base",
       "_view_module_version": "1.2.0",
       "_view_name": "LayoutView",
       "align_content": null,
       "align_items": null,
       "align_self": null,
       "border": null,
       "bottom": null,
       "display": null,
       "flex": null,
       "flex_flow": null,
       "grid_area": null,
       "grid_auto_columns": null,
       "grid_auto_flow": null,
       "grid_auto_rows": null,
       "grid_column": null,
       "grid_gap": null,
       "grid_row": null,
       "grid_template_areas": null,
       "grid_template_columns": null,
       "grid_template_rows": null,
       "height": null,
       "justify_content": null,
       "justify_items": null,
       "left": null,
       "margin": null,
       "max_height": null,
       "max_width": null,
       "min_height": null,
       "min_width": null,
       "object_fit": null,
       "object_position": null,
       "order": null,
       "overflow": null,
       "overflow_x": null,
       "overflow_y": null,
       "padding": null,
       "right": null,
       "top": null,
       "visibility": null,
       "width": null
      }
     },
     "9b147882b24248ec81b9f25434bac569": {
      "model_module": "@jupyter-widgets/controls",
      "model_module_version": "1.5.0",
      "model_name": "HTMLModel",
      "state": {
       "_dom_classes": [],
       "_model_module": "@jupyter-widgets/controls",
       "_model_module_version": "1.5.0",
       "_model_name": "HTMLModel",
       "_view_count": null,
       "_view_module": "@jupyter-widgets/controls",
       "_view_module_version": "1.5.0",
       "_view_name": "HTMLView",
       "description": "",
       "description_tooltip": null,
       "layout": "IPY_MODEL_e9f60ed37e0c4344b6afcd93f016393e",
       "placeholder": "​",
       "style": "IPY_MODEL_e0bb57b3f1e74306b223cee7ff397f3a",
       "value": "100%"
      }
     },
     "9fa8de0974c94e5d8044240644e85a0e": {
      "model_module": "@jupyter-widgets/base",
      "model_module_version": "1.2.0",
      "model_name": "LayoutModel",
      "state": {
       "_model_module": "@jupyter-widgets/base",
       "_model_module_version": "1.2.0",
       "_model_name": "LayoutModel",
       "_view_count": null,
       "_view_module": "@jupyter-widgets/base",
       "_view_module_version": "1.2.0",
       "_view_name": "LayoutView",
       "align_content": null,
       "align_items": null,
       "align_self": null,
       "border": null,
       "bottom": null,
       "display": null,
       "flex": null,
       "flex_flow": null,
       "grid_area": null,
       "grid_auto_columns": null,
       "grid_auto_flow": null,
       "grid_auto_rows": null,
       "grid_column": null,
       "grid_gap": null,
       "grid_row": null,
       "grid_template_areas": null,
       "grid_template_columns": null,
       "grid_template_rows": null,
       "height": null,
       "justify_content": null,
       "justify_items": null,
       "left": null,
       "margin": null,
       "max_height": null,
       "max_width": null,
       "min_height": null,
       "min_width": null,
       "object_fit": null,
       "object_position": null,
       "order": null,
       "overflow": null,
       "overflow_x": null,
       "overflow_y": null,
       "padding": null,
       "right": null,
       "top": null,
       "visibility": null,
       "width": null
      }
     },
     "ad66758e50634016912e3a0e09db0efa": {
      "model_module": "@jupyter-widgets/controls",
      "model_module_version": "1.5.0",
      "model_name": "HBoxModel",
      "state": {
       "_dom_classes": [],
       "_model_module": "@jupyter-widgets/controls",
       "_model_module_version": "1.5.0",
       "_model_name": "HBoxModel",
       "_view_count": null,
       "_view_module": "@jupyter-widgets/controls",
       "_view_module_version": "1.5.0",
       "_view_name": "HBoxView",
       "box_style": "",
       "children": [
        "IPY_MODEL_9b147882b24248ec81b9f25434bac569",
        "IPY_MODEL_63836e0988bd4a3d9e8ac467312ebddf",
        "IPY_MODEL_cdc356764c8b4f2ea9b9c0127a6bcf59"
       ],
       "layout": "IPY_MODEL_3165a9bb0e3244628205cdbf583f6bd5"
      }
     },
     "cdc356764c8b4f2ea9b9c0127a6bcf59": {
      "model_module": "@jupyter-widgets/controls",
      "model_module_version": "1.5.0",
      "model_name": "HTMLModel",
      "state": {
       "_dom_classes": [],
       "_model_module": "@jupyter-widgets/controls",
       "_model_module_version": "1.5.0",
       "_model_name": "HTMLModel",
       "_view_count": null,
       "_view_module": "@jupyter-widgets/controls",
       "_view_module_version": "1.5.0",
       "_view_name": "HTMLView",
       "description": "",
       "description_tooltip": null,
       "layout": "IPY_MODEL_83b282ee4ca447edbaf56784ad171d58",
       "placeholder": "​",
       "style": "IPY_MODEL_d22ecc5fa6c141abb52f95160f3611ae",
       "value": " 10000/10000 [08:15&lt;00:00, 20.39it/s]"
      }
     },
     "d22ecc5fa6c141abb52f95160f3611ae": {
      "model_module": "@jupyter-widgets/controls",
      "model_module_version": "1.5.0",
      "model_name": "DescriptionStyleModel",
      "state": {
       "_model_module": "@jupyter-widgets/controls",
       "_model_module_version": "1.5.0",
       "_model_name": "DescriptionStyleModel",
       "_view_count": null,
       "_view_module": "@jupyter-widgets/base",
       "_view_module_version": "1.2.0",
       "_view_name": "StyleView",
       "description_width": ""
      }
     },
     "e0bb57b3f1e74306b223cee7ff397f3a": {
      "model_module": "@jupyter-widgets/controls",
      "model_module_version": "1.5.0",
      "model_name": "DescriptionStyleModel",
      "state": {
       "_model_module": "@jupyter-widgets/controls",
       "_model_module_version": "1.5.0",
       "_model_name": "DescriptionStyleModel",
       "_view_count": null,
       "_view_module": "@jupyter-widgets/base",
       "_view_module_version": "1.2.0",
       "_view_name": "StyleView",
       "description_width": ""
      }
     },
     "e78bde1733de458f9413912c6d13afae": {
      "model_module": "@jupyter-widgets/controls",
      "model_module_version": "1.5.0",
      "model_name": "DescriptionStyleModel",
      "state": {
       "_model_module": "@jupyter-widgets/controls",
       "_model_module_version": "1.5.0",
       "_model_name": "DescriptionStyleModel",
       "_view_count": null,
       "_view_module": "@jupyter-widgets/base",
       "_view_module_version": "1.2.0",
       "_view_name": "StyleView",
       "description_width": ""
      }
     },
     "e9f60ed37e0c4344b6afcd93f016393e": {
      "model_module": "@jupyter-widgets/base",
      "model_module_version": "1.2.0",
      "model_name": "LayoutModel",
      "state": {
       "_model_module": "@jupyter-widgets/base",
       "_model_module_version": "1.2.0",
       "_model_name": "LayoutModel",
       "_view_count": null,
       "_view_module": "@jupyter-widgets/base",
       "_view_module_version": "1.2.0",
       "_view_name": "LayoutView",
       "align_content": null,
       "align_items": null,
       "align_self": null,
       "border": null,
       "bottom": null,
       "display": null,
       "flex": null,
       "flex_flow": null,
       "grid_area": null,
       "grid_auto_columns": null,
       "grid_auto_flow": null,
       "grid_auto_rows": null,
       "grid_column": null,
       "grid_gap": null,
       "grid_row": null,
       "grid_template_areas": null,
       "grid_template_columns": null,
       "grid_template_rows": null,
       "height": null,
       "justify_content": null,
       "justify_items": null,
       "left": null,
       "margin": null,
       "max_height": null,
       "max_width": null,
       "min_height": null,
       "min_width": null,
       "object_fit": null,
       "object_position": null,
       "order": null,
       "overflow": null,
       "overflow_x": null,
       "overflow_y": null,
       "padding": null,
       "right": null,
       "top": null,
       "visibility": null,
       "width": null
      }
     }
    },
    "version_major": 2,
    "version_minor": 0
   }
  }
 },
 "nbformat": 4,
 "nbformat_minor": 5
}
