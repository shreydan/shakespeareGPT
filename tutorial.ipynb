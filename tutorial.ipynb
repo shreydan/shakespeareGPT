{
 "cells": [
  {
   "cell_type": "markdown",
   "id": "92bbef72",
   "metadata": {},
   "source": [
    "## ShakespeareGPT\n",
    "\n",
    "> based on [Let's build GPT: from scratch, in code, spelled out.](https://www.youtube.com/watch?v=kCc8FmEb1nY)"
   ]
  },
  {
   "cell_type": "code",
   "execution_count": 63,
   "id": "b7b594ab",
   "metadata": {},
   "outputs": [],
   "source": [
    "import torch\n",
    "import torch.nn as nn\n",
    "import torch.nn.functional as F\n",
    "\n",
    "from dataclasses import dataclass"
   ]
  },
  {
   "cell_type": "code",
   "execution_count": 71,
   "id": "b3767769",
   "metadata": {},
   "outputs": [],
   "source": [
    "@dataclass\n",
    "class Config:\n",
    "    block_size = 8 # context-length\n",
    "    batch_size = 4 # mini-batch size"
   ]
  },
  {
   "cell_type": "markdown",
   "id": "7de2b46c",
   "metadata": {},
   "source": [
    "# Preparing Data"
   ]
  },
  {
   "cell_type": "code",
   "execution_count": 10,
   "id": "a805b994",
   "metadata": {},
   "outputs": [
    {
     "name": "stdout",
     "output_type": "stream",
     "text": [
      "len(data)=1114985\n",
      "First Citizen:\n",
      "Before we proceed any further, hear me speak.\n",
      "\n",
      "All:\n",
      "Speak, speak.\n",
      "\n",
      "First Citizen:\n",
      "You\n"
     ]
    }
   ],
   "source": [
    "with open('./dataset/shakespeare.txt','r',encoding='utf-8') as f:\n",
    "    data = f.read()\n",
    "    \n",
    "print(f\"{len(data)=}\\n{data[:100]}\")"
   ]
  },
  {
   "cell_type": "markdown",
   "id": "66353e27",
   "metadata": {},
   "source": [
    "## Tokenizer"
   ]
  },
  {
   "cell_type": "code",
   "execution_count": 36,
   "id": "6611c05c",
   "metadata": {},
   "outputs": [],
   "source": [
    "class CharacterLevelTokenizer:\n",
    "    def __init__(self,data):\n",
    "        self.data = data\n",
    "        self.vocab = sorted(list(set(self.data)))\n",
    "        self.VOCAB_SIZE = len(self.vocab)\n",
    "        \n",
    "        self.i_s = {i:s for i,s in enumerate(self.vocab)}\n",
    "        self.s_i = {s:i for i,s in self.i_s.items()}\n",
    "        \n",
    "    def encode(self,s):\n",
    "        return torch.tensor([self.s_i[c] for c in s],dtype=torch.long)\n",
    "\n",
    "    def decode(self,s):\n",
    "        return ''.join([self.i_s[i.item()] for i in s])"
   ]
  },
  {
   "cell_type": "code",
   "execution_count": 37,
   "id": "98b723a1",
   "metadata": {},
   "outputs": [
    {
     "name": "stdout",
     "output_type": "stream",
     "text": [
      "['\\n', ' ', '!', \"'\", ',', '-', '.', ':', ';', '?', 'A', 'B', 'C', 'D', 'E', 'F', 'G', 'H', 'I', 'J', 'K', 'L', 'M', 'N', 'O', 'P', 'Q', 'R', 'S', 'T', 'U', 'V', 'W', 'X', 'Y', 'Z', 'a', 'b', 'c', 'd', 'e', 'f', 'g', 'h', 'i', 'j', 'k', 'l', 'm', 'n', 'o', 'p', 'q', 'r', 's', 't', 'u', 'v', 'w', 'x', 'y', 'z']\n",
      "62\n"
     ]
    }
   ],
   "source": [
    "tokenizer = CharacterLevelTokenizer(data)\n",
    "print(tokenizer.vocab)\n",
    "print(tokenizer.VOCAB_SIZE)"
   ]
  },
  {
   "cell_type": "code",
   "execution_count": 38,
   "id": "2a94a424",
   "metadata": {},
   "outputs": [
    {
     "data": {
      "text/plain": [
       "tensor([40, 55,  1, 55, 56,  1, 37, 53, 56, 55, 40,  9])"
      ]
     },
     "execution_count": 38,
     "metadata": {},
     "output_type": "execute_result"
    }
   ],
   "source": [
    "tokenizer.encode('et tu brute?')"
   ]
  },
  {
   "cell_type": "code",
   "execution_count": 39,
   "id": "af04bfc7",
   "metadata": {},
   "outputs": [
    {
     "data": {
      "text/plain": [
       "'et tu brute?'"
      ]
     },
     "execution_count": 39,
     "metadata": {},
     "output_type": "execute_result"
    }
   ],
   "source": [
    "tokenizer.decode(tokenizer.encode('et tu brute?'))"
   ]
  },
  {
   "cell_type": "code",
   "execution_count": 57,
   "id": "df271e65",
   "metadata": {},
   "outputs": [],
   "source": [
    "class ShakespeareDataset:\n",
    "    def __init__(self,block_size:int, is_test=False) -> None:\n",
    "        self.tokenizer = CharacterLevelTokenizer(data)\n",
    "        self.is_test = is_test\n",
    "        self.full_data = self.tokenizer.encode(self.tokenizer.data)\n",
    "        if self.is_test:\n",
    "            self.data = self.full_data[int(0.9*len(self.full_data)):]\n",
    "        else:\n",
    "            self.data = self.full_data[:int(0.9*len(self.full_data))]\n",
    "        self.block_size = block_size\n",
    "\n",
    "    def __len__(self) -> int:\n",
    "        return len(self.data)\n",
    "\n",
    "    def get_block_size(self) -> int:\n",
    "        return self.block_size\n",
    "\n",
    "    def get_vocab_size(self) -> int:\n",
    "        return self.tokenizer.VOCAB_SIZE\n",
    "\n",
    "    def __getitem__(self,idx):\n",
    "        item = self.data[idx:idx+self.block_size+1]\n",
    "        x = item[:-1]\n",
    "        y = item[1:]\n",
    "        return x,y"
   ]
  },
  {
   "cell_type": "code",
   "execution_count": 73,
   "id": "3e997f57",
   "metadata": {},
   "outputs": [
    {
     "name": "stdout",
     "output_type": "stream",
     "text": [
      "train_ds.get_block_size()=8\n",
      "train_ds.get_vocab_size()=62\n",
      "len(train_ds)=1003486\n",
      "len(val_ds)=111499\n"
     ]
    }
   ],
   "source": [
    "train_ds = ShakespeareDataset(Config.block_size)\n",
    "print(f'{train_ds.get_block_size()=}\\n{train_ds.get_vocab_size()=}\\n{len(train_ds)=}')\n",
    "\n",
    "val_ds = ShakespeareDataset(Config.block_size,is_test=True)\n",
    "print(f'{len(val_ds)=}')"
   ]
  },
  {
   "cell_type": "code",
   "execution_count": 74,
   "id": "9b191e3a",
   "metadata": {},
   "outputs": [],
   "source": [
    "train_dl = torch.utils.data.DataLoader(train_ds,shuffle=False,batch_size=Config.batch_size)"
   ]
  },
  {
   "cell_type": "code",
   "execution_count": 75,
   "id": "1938ca7c",
   "metadata": {},
   "outputs": [
    {
     "data": {
      "text/plain": [
       "[tensor([[15, 44, 53, 54, 55,  1, 12, 44],\n",
       "         [44, 53, 54, 55,  1, 12, 44, 55],\n",
       "         [53, 54, 55,  1, 12, 44, 55, 44],\n",
       "         [54, 55,  1, 12, 44, 55, 44, 61]]),\n",
       " tensor([[44, 53, 54, 55,  1, 12, 44, 55],\n",
       "         [53, 54, 55,  1, 12, 44, 55, 44],\n",
       "         [54, 55,  1, 12, 44, 55, 44, 61],\n",
       "         [55,  1, 12, 44, 55, 44, 61, 40]])]"
      ]
     },
     "execution_count": 75,
     "metadata": {},
     "output_type": "execute_result"
    }
   ],
   "source": [
    "next(iter(train_dl))"
   ]
  }
 ],
 "metadata": {
  "kernelspec": {
   "display_name": "Python 3 (ipykernel)",
   "language": "python",
   "name": "python3"
  },
  "language_info": {
   "codemirror_mode": {
    "name": "ipython",
    "version": 3
   },
   "file_extension": ".py",
   "mimetype": "text/x-python",
   "name": "python",
   "nbconvert_exporter": "python",
   "pygments_lexer": "ipython3",
   "version": "3.10.9"
  }
 },
 "nbformat": 4,
 "nbformat_minor": 5
}
