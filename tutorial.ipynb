{
 "cells": [
  {
   "cell_type": "markdown",
   "id": "e95505cc",
   "metadata": {},
   "source": [
    "## ShakespeareGPT\n",
    "\n",
    "> based on [Let's build GPT: from scratch, in code, spelled out.](https://www.youtube.com/watch?v=kCc8FmEb1nY)"
   ]
  },
  {
   "cell_type": "code",
   "execution_count": 79,
   "id": "96a848fb",
   "metadata": {},
   "outputs": [],
   "source": [
    "import torch\n",
    "import torch.nn as nn\n",
    "import torch.nn.functional as F\n",
    "\n",
    "from dataclasses import dataclass"
   ]
  },
  {
   "cell_type": "code",
   "execution_count": 80,
   "id": "ee908618",
   "metadata": {},
   "outputs": [
    {
     "data": {
      "text/plain": [
       "<torch._C.Generator at 0x7fbec4214050>"
      ]
     },
     "execution_count": 80,
     "metadata": {},
     "output_type": "execute_result"
    }
   ],
   "source": [
    "torch.manual_seed(1357)"
   ]
  },
  {
   "cell_type": "code",
   "execution_count": 81,
   "id": "0ecc1dba",
   "metadata": {},
   "outputs": [],
   "source": [
    "@dataclass\n",
    "class Config:\n",
    "    block_size = 8 # context-length\n",
    "    batch_size = 4 # mini-batch size"
   ]
  },
  {
   "cell_type": "markdown",
   "id": "2f6a1758",
   "metadata": {},
   "source": [
    "# Preparing Data"
   ]
  },
  {
   "cell_type": "code",
   "execution_count": 82,
   "id": "bd383ea2",
   "metadata": {},
   "outputs": [
    {
     "name": "stdout",
     "output_type": "stream",
     "text": [
      "len(data)=1114985\n",
      "First Citizen:\n",
      "Before we proceed any further, hear me speak.\n",
      "\n",
      "All:\n",
      "Speak, speak.\n",
      "\n",
      "First Citizen:\n",
      "You\n"
     ]
    }
   ],
   "source": [
    "with open('./dataset/shakespeare.txt','r',encoding='utf-8') as f:\n",
    "    data = f.read()\n",
    "    \n",
    "print(f\"{len(data)=}\\n{data[:100]}\")"
   ]
  },
  {
   "cell_type": "markdown",
   "id": "ff6398c3",
   "metadata": {},
   "source": [
    "## Tokenizer"
   ]
  },
  {
   "cell_type": "code",
   "execution_count": 83,
   "id": "655e864f",
   "metadata": {},
   "outputs": [],
   "source": [
    "class CharacterLevelTokenizer:\n",
    "    def __init__(self,data):\n",
    "        self.data = data\n",
    "        self.vocab = sorted(list(set(self.data)))\n",
    "        self.VOCAB_SIZE = len(self.vocab)\n",
    "        \n",
    "        self.i_s = {i:s for i,s in enumerate(self.vocab)}\n",
    "        self.s_i = {s:i for i,s in self.i_s.items()}\n",
    "        \n",
    "    def encode(self,s):\n",
    "        return torch.tensor([self.s_i[c] for c in s],dtype=torch.long)\n",
    "\n",
    "    def decode(self,s):\n",
    "        return ''.join([self.i_s[i.item()] for i in s])"
   ]
  },
  {
   "cell_type": "code",
   "execution_count": 84,
   "id": "55ed1032",
   "metadata": {},
   "outputs": [
    {
     "name": "stdout",
     "output_type": "stream",
     "text": [
      "['\\n', ' ', '!', \"'\", ',', '-', '.', ':', ';', '?', 'A', 'B', 'C', 'D', 'E', 'F', 'G', 'H', 'I', 'J', 'K', 'L', 'M', 'N', 'O', 'P', 'Q', 'R', 'S', 'T', 'U', 'V', 'W', 'X', 'Y', 'Z', 'a', 'b', 'c', 'd', 'e', 'f', 'g', 'h', 'i', 'j', 'k', 'l', 'm', 'n', 'o', 'p', 'q', 'r', 's', 't', 'u', 'v', 'w', 'x', 'y', 'z']\n",
      "62\n"
     ]
    }
   ],
   "source": [
    "tokenizer = CharacterLevelTokenizer(data)\n",
    "print(tokenizer.vocab)\n",
    "print(tokenizer.VOCAB_SIZE)"
   ]
  },
  {
   "cell_type": "code",
   "execution_count": 85,
   "id": "b8d1d698",
   "metadata": {},
   "outputs": [
    {
     "data": {
      "text/plain": [
       "tensor([40, 55,  1, 55, 56,  1, 37, 53, 56, 55, 40,  9])"
      ]
     },
     "execution_count": 85,
     "metadata": {},
     "output_type": "execute_result"
    }
   ],
   "source": [
    "tokenizer.encode('et tu brute?')"
   ]
  },
  {
   "cell_type": "code",
   "execution_count": 86,
   "id": "6f1501c4",
   "metadata": {},
   "outputs": [
    {
     "data": {
      "text/plain": [
       "'et tu brute?'"
      ]
     },
     "execution_count": 86,
     "metadata": {},
     "output_type": "execute_result"
    }
   ],
   "source": [
    "tokenizer.decode(tokenizer.encode('et tu brute?'))"
   ]
  },
  {
   "cell_type": "markdown",
   "id": "8b63f650",
   "metadata": {},
   "source": [
    "## Dataset & Dataloader"
   ]
  },
  {
   "cell_type": "code",
   "execution_count": 87,
   "id": "cb8dc331",
   "metadata": {},
   "outputs": [],
   "source": [
    "class ShakespeareDataset:\n",
    "    def __init__(self,block_size:int, is_test=False) -> None:\n",
    "        self.tokenizer = CharacterLevelTokenizer(data)\n",
    "        self.is_test = is_test\n",
    "        self.full_data = self.tokenizer.encode(self.tokenizer.data)\n",
    "        if self.is_test:\n",
    "            self.data = self.full_data[int(0.9*len(self.full_data)):]\n",
    "        else:\n",
    "            self.data = self.full_data[:int(0.9*len(self.full_data))]\n",
    "        self.block_size = block_size\n",
    "\n",
    "    def __len__(self) -> int:\n",
    "        return len(self.data)\n",
    "\n",
    "    def get_block_size(self) -> int:\n",
    "        return self.block_size\n",
    "\n",
    "    def get_vocab_size(self) -> int:\n",
    "        return self.tokenizer.VOCAB_SIZE\n",
    "\n",
    "    def __getitem__(self,idx):\n",
    "        item = self.data[idx:idx+self.block_size+1]\n",
    "        x = item[:-1]\n",
    "        y = item[1:]\n",
    "        return x,y"
   ]
  },
  {
   "cell_type": "code",
   "execution_count": 88,
   "id": "9a527e98",
   "metadata": {},
   "outputs": [
    {
     "name": "stdout",
     "output_type": "stream",
     "text": [
      "train_ds.get_block_size()=8\n",
      "train_ds.get_vocab_size()=62\n",
      "len(train_ds)=1003486\n",
      "len(val_ds)=111499\n"
     ]
    }
   ],
   "source": [
    "train_ds = ShakespeareDataset(Config.block_size)\n",
    "print(f'{train_ds.get_block_size()=}\\n{train_ds.get_vocab_size()=}\\n{len(train_ds)=}')\n",
    "\n",
    "val_ds = ShakespeareDataset(Config.block_size,is_test=True)\n",
    "print(f'{len(val_ds)=}')"
   ]
  },
  {
   "cell_type": "code",
   "execution_count": 89,
   "id": "f0421f91",
   "metadata": {},
   "outputs": [],
   "source": [
    "train_dl = torch.utils.data.DataLoader(train_ds,shuffle=False,batch_size=Config.batch_size)"
   ]
  },
  {
   "cell_type": "code",
   "execution_count": 90,
   "id": "ce934b14",
   "metadata": {
    "scrolled": true
   },
   "outputs": [
    {
     "name": "stdout",
     "output_type": "stream",
     "text": [
      "torch.Size([4, 8]) torch.Size([4, 8])\n"
     ]
    },
    {
     "data": {
      "text/plain": [
       "(tensor([[15, 44, 53, 54, 55,  1, 12, 44],\n",
       "         [44, 53, 54, 55,  1, 12, 44, 55],\n",
       "         [53, 54, 55,  1, 12, 44, 55, 44],\n",
       "         [54, 55,  1, 12, 44, 55, 44, 61]]),\n",
       " tensor([[44, 53, 54, 55,  1, 12, 44, 55],\n",
       "         [53, 54, 55,  1, 12, 44, 55, 44],\n",
       "         [54, 55,  1, 12, 44, 55, 44, 61],\n",
       "         [55,  1, 12, 44, 55, 44, 61, 40]]))"
      ]
     },
     "execution_count": 90,
     "metadata": {},
     "output_type": "execute_result"
    }
   ],
   "source": [
    "inputs,targets=next(iter(train_dl))\n",
    "print(inputs.shape,targets.shape)\n",
    "inputs,targets"
   ]
  },
  {
   "cell_type": "markdown",
   "id": "26c91679",
   "metadata": {},
   "source": [
    "# Bi-gram Language Model"
   ]
  },
  {
   "cell_type": "code",
   "execution_count": 125,
   "id": "2efae091",
   "metadata": {},
   "outputs": [],
   "source": [
    "class BigramLM(nn.Module):\n",
    "    def __init__(self,vocab_size):\n",
    "        super(BigramLM,self).__init__()\n",
    "        self.token_embedding_table = nn.Embedding(vocab_size,vocab_size)\n",
    "        \n",
    "    def forward(self,idx,targets=None):\n",
    "        logits = self.token_embedding_table(idx) # (B,T,C:vocab_size)\n",
    "        \n",
    "        if targets is None:\n",
    "            loss = None\n",
    "        else:\n",
    "            # torch cross entropy expects B,C,T instead of B,T,C\n",
    "            # and for targets, we need B*T instead of B,T\n",
    "            B,T,C = logits.shape\n",
    "            logits = logits.view(B*T, C)\n",
    "            targets = targets.view(B*T)\n",
    "            loss = F.cross_entropy(logits,targets)\n",
    "            \n",
    "        return logits,loss\n",
    "\n",
    "        \n",
    "    def generate(self,idx,total):\n",
    "        # idx (B,T) in current context\n",
    "        for _ in range(total):\n",
    "            logits,loss = self(idx)\n",
    "            # since the last element is the next character, we pluck out -1 from T\n",
    "            logits = logits[:,-1,:] # (B*T,C) -> (B,C)\n",
    "            probs = F.softmax(logits,dim=-1)\n",
    "            idx_next = torch.multinomial(probs, num_samples=1)\n",
    "            idx = torch.cat([idx,idx_next],dim=1) # (B, T+=1)\n",
    "            \n",
    "        return idx"
   ]
  },
  {
   "cell_type": "code",
   "execution_count": 126,
   "id": "6980d95b",
   "metadata": {},
   "outputs": [
    {
     "name": "stdout",
     "output_type": "stream",
     "text": [
      "torch.Size([256, 62]) tensor(4.4188, grad_fn=<NllLossBackward0>)\n"
     ]
    },
    {
     "data": {
      "text/plain": [
       "\"\\nxqI E:Mp.HtfZDyhnSa!uQaSjIncCgX'xwUv-P;DzahqW.RY;ldx CmYAQgCT.noI\\nXqtX JCeZzbMPkGcbMxQAt;l--ZFlHmUSc\""
      ]
     },
     "execution_count": 126,
     "metadata": {},
     "output_type": "execute_result"
    }
   ],
   "source": [
    "bglm = BigramLM(tokenizer.VOCAB_SIZE)\n",
    "logits,loss = bglm(inputs,targets)\n",
    "print(logits.shape,loss)\n",
    "\n",
    "generated = bglm.generate(\n",
    "    torch.zeros((1,1),dtype=torch.long), # initial context 0\n",
    "    total=100\n",
    ")\n",
    "generated = tokenizer.decode(generated[0])\n",
    "generated"
   ]
  },
  {
   "cell_type": "markdown",
   "id": "f38275bb",
   "metadata": {},
   "source": [
    "## training the bigram LM"
   ]
  },
  {
   "cell_type": "code",
   "execution_count": 136,
   "id": "18046562",
   "metadata": {},
   "outputs": [
    {
     "name": "stdout",
     "output_type": "stream",
     "text": [
      "step: 0 loss: 4.459361553192139\n",
      "step: 2500 loss: 3.365318536758423\n",
      "step: 5000 loss: 3.2022905349731445\n",
      "step: 7500 loss: 2.7361788749694824\n",
      "step: 10000 loss: 2.567321538925171\n",
      "step: 12500 loss: 2.655674457550049\n",
      "step: 15000 loss: 2.230267286300659\n",
      "step: 17500 loss: 2.302700996398926\n",
      "step: 20000 loss: 2.6413631439208984\n",
      "step: 22500 loss: 2.369800329208374\n"
     ]
    }
   ],
   "source": [
    "bglm = BigramLM(tokenizer.VOCAB_SIZE)\n",
    "\n",
    "optim = torch.optim.AdamW(bglm.parameters(),lr=1e-3)\n",
    "bglm_dl = torch.utils.data.DataLoader(train_ds,shuffle=False,batch_size=32)\n",
    "\n",
    "it = iter(bglm_dl)\n",
    "for steps in range(25_000):\n",
    "    inputs,targets = next(it)\n",
    "    logits,loss=bglm(inputs,targets)\n",
    "    optim.zero_grad()\n",
    "    loss.backward()\n",
    "    optim.step()\n",
    "    if steps%2500==0:\n",
    "        print(f'step: {steps} loss: {loss.item()}')"
   ]
  },
  {
   "cell_type": "code",
   "execution_count": 137,
   "id": "b1c13607",
   "metadata": {},
   "outputs": [
    {
     "name": "stdout",
     "output_type": "stream",
     "text": [
      "\n",
      "Onda!\n",
      "RESubend f I; thikl My s yo pucitll d the, the dathioaye: illipy, wirat LI be f ta pa br fly ake's, d p\n",
      "TENe.\n",
      "S:\n",
      "Spen d Orts tilllos ve.\n",
      "Ithanugr BE: gre d ck.\n",
      "Heturare n tean f tyothingoullfus han.\n",
      "ELo aveaverelamy ises 'st,\n",
      "Mak'leerast, ourellan wo;\n",
      "\n",
      "NThy me.\n",
      "I flasin, be me nkeesherot pies the t s shoug, ms mig wed I'l VADasusho is t ie isom pou lerthe car f ty imideless\n",
      "TEE ce my,\n",
      "Win? tce ests, trioepal l?\n",
      "Lisg, ll t tstiseat d alolissoucod, meenild al m sifeavims f tar sisonthais\n",
      "ONo\n"
     ]
    }
   ],
   "source": [
    "generated = bglm.generate(\n",
    "    torch.zeros((1,1),dtype=torch.long), # initial context 0\n",
    "    total=500\n",
    ")\n",
    "generated = tokenizer.decode(generated[0])\n",
    "print(generated)"
   ]
  },
  {
   "cell_type": "code",
   "execution_count": null,
   "id": "a850c3fd",
   "metadata": {},
   "outputs": [],
   "source": []
  }
 ],
 "metadata": {
  "kernelspec": {
   "display_name": "Python 3 (ipykernel)",
   "language": "python",
   "name": "python3"
  },
  "language_info": {
   "codemirror_mode": {
    "name": "ipython",
    "version": 3
   },
   "file_extension": ".py",
   "mimetype": "text/x-python",
   "name": "python",
   "nbconvert_exporter": "python",
   "pygments_lexer": "ipython3",
   "version": "3.10.9"
  }
 },
 "nbformat": 4,
 "nbformat_minor": 5
}
