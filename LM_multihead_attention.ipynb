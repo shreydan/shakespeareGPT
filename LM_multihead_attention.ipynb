{
 "cells": [
  {
   "cell_type": "markdown",
   "id": "5c9b2878",
   "metadata": {},
   "source": [
    "## Things Added:\n",
    "\n",
    "- multihead attention\n",
    "- feed forward\n"
   ]
  },
  {
   "cell_type": "code",
   "execution_count": 29,
   "id": "dbb2626a",
   "metadata": {},
   "outputs": [],
   "source": [
    "import torch\n",
    "import torch.nn as nn\n",
    "import torch.nn.functional as F\n",
    "\n",
    "from dataclasses import dataclass"
   ]
  },
  {
   "cell_type": "code",
   "execution_count": 30,
   "id": "8edbd747",
   "metadata": {},
   "outputs": [
    {
     "data": {
      "text/plain": [
       "<torch._C.Generator at 0x7f5d201240f0>"
      ]
     },
     "execution_count": 30,
     "metadata": {},
     "output_type": "execute_result"
    }
   ],
   "source": [
    "torch.manual_seed(1357)"
   ]
  },
  {
   "cell_type": "code",
   "execution_count": 31,
   "id": "152b029e",
   "metadata": {},
   "outputs": [],
   "source": [
    "with open('./dataset/shakespeare.txt','r',encoding='utf-8') as f:\n",
    "    data = f.read()"
   ]
  },
  {
   "cell_type": "code",
   "execution_count": 32,
   "id": "1b3efeee",
   "metadata": {},
   "outputs": [],
   "source": [
    "class CharacterLevelTokenizer:\n",
    "    def __init__(self,data):\n",
    "        self.data = data\n",
    "        self.vocab = sorted(list(set(self.data)))\n",
    "        self.VOCAB_SIZE = len(self.vocab)\n",
    "        \n",
    "        self.i_s = {i:s for i,s in enumerate(self.vocab)}\n",
    "        self.s_i = {s:i for i,s in self.i_s.items()}\n",
    "        \n",
    "    def encode(self,s):\n",
    "        return torch.tensor([self.s_i[c] for c in s],dtype=torch.long)\n",
    "\n",
    "    def decode(self,s):\n",
    "        return ''.join([self.i_s[i.item()] for i in s])"
   ]
  },
  {
   "cell_type": "code",
   "execution_count": 33,
   "id": "81c4b3b9",
   "metadata": {},
   "outputs": [],
   "source": [
    "tokenizer = CharacterLevelTokenizer(data)"
   ]
  },
  {
   "cell_type": "code",
   "execution_count": 34,
   "id": "fd38dea7",
   "metadata": {},
   "outputs": [],
   "source": [
    "class ShakespeareDataset:\n",
    "    def __init__(self,block_size:int, is_test=False) -> None:\n",
    "        self.tokenizer = CharacterLevelTokenizer(data)\n",
    "        self.is_test = is_test\n",
    "        self.full_data = self.tokenizer.encode(self.tokenizer.data)\n",
    "        if self.is_test:\n",
    "            self.data = self.full_data[int(0.9*len(self.full_data)):]\n",
    "        else:\n",
    "            self.data = self.full_data[:int(0.9*len(self.full_data))]\n",
    "        self.block_size = block_size\n",
    "\n",
    "    def __len__(self) -> int:\n",
    "        return len(self.data)\n",
    "\n",
    "    def get_block_size(self) -> int:\n",
    "        return self.block_size\n",
    "\n",
    "    def get_vocab_size(self) -> int:\n",
    "        return self.tokenizer.VOCAB_SIZE\n",
    "\n",
    "    def __getitem__(self,idx):\n",
    "        item = self.data[idx:idx+self.block_size+1]\n",
    "        x = item[:-1]\n",
    "        y = item[1:]\n",
    "        return x,y"
   ]
  },
  {
   "cell_type": "code",
   "execution_count": 54,
   "id": "c3638414",
   "metadata": {},
   "outputs": [],
   "source": [
    "@dataclass\n",
    "class Config:\n",
    "    block_size = 16 # context-length\n",
    "    batch_size = 32 # mini-batch size\n",
    "    vocab_size = tokenizer.VOCAB_SIZE\n",
    "    n_embed = 32\n",
    "    lr = 1e-3\n",
    "    n_heads = 4\n",
    "    head_size = n_embed // n_heads"
   ]
  },
  {
   "cell_type": "code",
   "execution_count": 36,
   "id": "7619a2b9",
   "metadata": {},
   "outputs": [],
   "source": [
    "train_ds = ShakespeareDataset(Config.block_size)\n",
    "val_ds = ShakespeareDataset(Config.block_size,is_test=True)"
   ]
  },
  {
   "cell_type": "code",
   "execution_count": 37,
   "id": "03dc42d5",
   "metadata": {},
   "outputs": [],
   "source": [
    "train_dl = torch.utils.data.DataLoader(train_ds,shuffle=False,batch_size=Config.batch_size)"
   ]
  },
  {
   "cell_type": "code",
   "execution_count": 38,
   "id": "2cd9647f",
   "metadata": {},
   "outputs": [],
   "source": [
    "class AttentionHead(nn.Module):\n",
    "    def __init__(self, Config):\n",
    "        super().__init__()\n",
    "\n",
    "        self.block_size = Config.block_size\n",
    "        self.n_embed = Config.n_embed\n",
    "        self.head_size = Config.head_size\n",
    "        \n",
    "        self.key = nn.Linear(self.n_embed, self.head_size, bias=False)\n",
    "        self.query = nn.Linear(self.n_embed, self.head_size, bias=False)\n",
    "        \n",
    "        self.value = nn.Linear(self.n_embed, self.head_size, bias=False)\n",
    "\n",
    "        self.register_buffer(\n",
    "            'tril',\n",
    "            torch.tril(torch.ones(self.block_size,self.block_size))\n",
    "        )\n",
    "\n",
    "    def forward(self, x):\n",
    "\n",
    "        B,T,C = x.shape\n",
    "\n",
    "        k = self.key(x)\n",
    "        q = self.query(x)\n",
    "\n",
    "        wei = q@k.transpose(-2,-1) * (C ** 0.5)\n",
    "        wei = wei.masked_fill(self.tril[:T,:T]==0,float('-inf'))\n",
    "\n",
    "        wei = F.softmax(wei, dim=-1)\n",
    "        \n",
    "        v = self.value(x)\n",
    "        out = wei @ v\n",
    "        \n",
    "        return out"
   ]
  },
  {
   "cell_type": "code",
   "execution_count": 59,
   "id": "4692a639",
   "metadata": {},
   "outputs": [],
   "source": [
    "class MultiHeadAttention(nn.Module):\n",
    "    def __init__(self, Config):\n",
    "        super().__init__()\n",
    "        self.n_heads = Config.n_heads\n",
    "        self.head_size = Config.head_size\n",
    "        \n",
    "        self.heads = nn.ModuleList([AttentionHead(Config) for _ in range(self.n_heads)])\n",
    "    \n",
    "    def forward(self,x):\n",
    "        return torch.cat([h(x) for h in self.heads],dim=-1)"
   ]
  },
  {
   "cell_type": "code",
   "execution_count": 67,
   "id": "fe1a2a61",
   "metadata": {},
   "outputs": [],
   "source": [
    "class FeedForward(nn.Module):\n",
    "    def __init__(self, Config):\n",
    "        super().__init__()\n",
    "        self.net = nn.Sequential(\n",
    "            nn.Linear(Config.n_embed,Config.n_embed),\n",
    "            nn.ReLU()\n",
    "        )\n",
    "    def forward(self,x):\n",
    "        return self.net(x)"
   ]
  },
  {
   "cell_type": "code",
   "execution_count": 68,
   "id": "1902ccde",
   "metadata": {},
   "outputs": [],
   "source": [
    "class LanguageModel(nn.Module):\n",
    "    def __init__(self,Config):\n",
    "        super().__init__()\n",
    "        \n",
    "        self.n_embed = Config.n_embed # number of embedding dims\n",
    "        self.block_size = Config.block_size\n",
    "        \n",
    "        self.token_embedding_table = nn.Embedding(Config.vocab_size,self.n_embed)\n",
    "        \n",
    "        self.pos_embedding_table = nn.Embedding(self.block_size, self.n_embed)\n",
    "        \n",
    "        self.multihead_attn = MultiHeadAttention(Config)\n",
    "        \n",
    "        self.feed_forward = FeedForward(Config)\n",
    "        self.lm_head = nn.Linear(self.n_embed,Config.vocab_size)\n",
    "        \n",
    "    def forward(self,idx,targets=None):\n",
    "        \n",
    "        B,T = idx.shape\n",
    "        \n",
    "        token_embs = self.token_embedding_table(idx) # (B,T,n_embed)\n",
    "        pos_embs = self.pos_embedding_table(torch.arange(T)) # (T,n_embed)\n",
    "        \n",
    "        x = token_embs + pos_embs # (B,T,n_embed)\n",
    "        x = self.multihead_attn(x) # (B,T,head_size)\n",
    "        \n",
    "        x = self.feed_forward(x) # (B,T,n_embed)\n",
    "        \n",
    "        logits = self.lm_head(x) # (B,T,vocab_size)\n",
    "        \n",
    "        if targets is None:\n",
    "            loss = None\n",
    "        else:\n",
    "            # torch cross entropy expects B,C,T instead of B,T,C\n",
    "            # and for targets, we need B*T instead of B,T\n",
    "            B,T,C = logits.shape\n",
    "            logits = logits.view(B*T, C)\n",
    "            targets = targets.view(B*T)\n",
    "            loss = F.cross_entropy(logits,targets)\n",
    "            \n",
    "        return logits,loss\n",
    "\n",
    "        \n",
    "    def generate(self,idx,total):\n",
    "            \n",
    "        # idx is (B, T) array of indices in the current context\n",
    "        for _ in range(total):\n",
    "            # crop idx to the last block_size tokens\n",
    "            idx_cond = idx[:, -self.block_size:]\n",
    "            # get the predictions\n",
    "            logits, loss = self(idx_cond)\n",
    "            # focus only on the last time step\n",
    "            # since the last element is the next character, we pluck out -1 from T\n",
    "            logits = logits[:, -1, :] # (B*T,C) -> (B,C)\n",
    "            # apply softmax to get probabilities\n",
    "            probs = F.softmax(logits, dim=-1) # (B, C)\n",
    "            # sample from the distribution\n",
    "            idx_next = torch.multinomial(probs, num_samples=1) # (B, 1)\n",
    "            # append sampled index to the running sequence\n",
    "            idx = torch.cat((idx, idx_next), dim=1) # (B, T+=1)\n",
    "        return idx\n",
    "            "
   ]
  },
  {
   "cell_type": "code",
   "execution_count": 69,
   "id": "5d4d815f",
   "metadata": {},
   "outputs": [
    {
     "name": "stdout",
     "output_type": "stream",
     "text": [
      "step: 0 loss: 4.137528419494629\n",
      "step: 1000 loss: 2.4903576374053955\n",
      "step: 2000 loss: 2.4997308254241943\n",
      "step: 3000 loss: 2.621544599533081\n",
      "step: 4000 loss: 2.216435194015503\n",
      "step: 5000 loss: 3.4450135231018066\n",
      "step: 6000 loss: 2.0625293254852295\n",
      "step: 7000 loss: 2.517878293991089\n",
      "step: 8000 loss: 1.8138558864593506\n",
      "step: 9000 loss: 1.91243577003479\n"
     ]
    }
   ],
   "source": [
    "lm = LanguageModel(Config)\n",
    "optim = torch.optim.AdamW(lm.parameters(),lr=Config.lr)\n",
    "\n",
    "it = iter(train_dl)\n",
    "for steps in range(10_000):\n",
    "    inputs,targets = next(it)\n",
    "    logits,loss=lm(inputs,targets)\n",
    "    optim.zero_grad()\n",
    "    loss.backward()\n",
    "    optim.step()\n",
    "    if steps%1000==0:\n",
    "        print(f'step: {steps} loss: {loss.item()}')"
   ]
  },
  {
   "cell_type": "code",
   "execution_count": 70,
   "id": "0f19f1ea",
   "metadata": {},
   "outputs": [
    {
     "name": "stdout",
     "output_type": "stream",
     "text": [
      "generated (500 tokens) >>>\n",
      " \n",
      "fe lord sis\n",
      "Wharty is;\n",
      "Kon's Es tair, awraculd my cod ammy mot?\n",
      "\n",
      "IFgod of Rirt I prouch we toats\n",
      "Weas cepeamiche mep!\n",
      "NO RI Ried GIFFlONNBUCI:\n",
      "LUCat\n",
      "Aith\n",
      "Andd aingrre Mnttepe the lmell evove muanks ourd her law crarf oul he bigus nold.\n",
      "\n",
      "A amif outin to our to woaughat soves wy provalis;\n",
      "Witist\n",
      "Ortch lot leate bloufrw\n",
      "Cot hin, prar cof hak obaajokand wice tousill acites.\n",
      "Wait;\n",
      "\n",
      "Say clamis LUant chour aste,\n",
      "Thot sich thime'd ris his oue,\n",
      "Mng at ieg,\n",
      "Ae foor whisonst ilwe,\n",
      "Te frars rop?\n",
      "Ler hre my \n"
     ]
    }
   ],
   "source": [
    "generated = lm.generate(\n",
    "    torch.zeros((1,1),dtype=torch.long), # initial context 0\n",
    "    total=500\n",
    ")\n",
    "generated = tokenizer.decode(generated[0])\n",
    "print('generated (500 tokens) >>>\\n',generated)"
   ]
  }
 ],
 "metadata": {
  "kernelspec": {
   "display_name": "Python 3 (ipykernel)",
   "language": "python",
   "name": "python3"
  },
  "language_info": {
   "codemirror_mode": {
    "name": "ipython",
    "version": 3
   },
   "file_extension": ".py",
   "mimetype": "text/x-python",
   "name": "python",
   "nbconvert_exporter": "python",
   "pygments_lexer": "ipython3",
   "version": "3.10.9"
  }
 },
 "nbformat": 4,
 "nbformat_minor": 5
}
